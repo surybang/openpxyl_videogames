{
 "cells": [
  {
   "cell_type": "markdown",
   "id": "e2540c1e",
   "metadata": {},
   "source": [
    "# <center> Projet EXCEL MASTER MEDAS  <br> Automatisation d'un reporting avec Python </center>"
   ]
  },
  {
   "cell_type": "markdown",
   "id": "43d12a4e",
   "metadata": {},
   "source": [
    "Documentation Openpxyl : https://openpyxl.readthedocs.io/en/stable/tutorial.html"
   ]
  },
  {
   "cell_type": "markdown",
   "id": "bb0cce09",
   "metadata": {},
   "source": [
    "# Importation des données"
   ]
  },
  {
   "cell_type": "code",
   "execution_count": 1,
   "id": "cf17c412",
   "metadata": {},
   "outputs": [
    {
     "name": "stdout",
     "output_type": "stream",
     "text": [
      "<class 'pandas.core.frame.DataFrame'>\n",
      "RangeIndex: 16598 entries, 0 to 16597\n",
      "Data columns (total 11 columns):\n",
      " #   Column        Non-Null Count  Dtype  \n",
      "---  ------        --------------  -----  \n",
      " 0   rank          16598 non-null  int64  \n",
      " 1   name          16598 non-null  object \n",
      " 2   platform      16598 non-null  object \n",
      " 3   year          16327 non-null  float64\n",
      " 4   genre         16598 non-null  object \n",
      " 5   publisher     16540 non-null  object \n",
      " 6   na_sales      16598 non-null  float64\n",
      " 7   eu_sales      16598 non-null  float64\n",
      " 8   jp_sales      16598 non-null  float64\n",
      " 9   other_sales   16598 non-null  float64\n",
      " 10  global_sales  16598 non-null  float64\n",
      "dtypes: float64(6), int64(1), object(4)\n",
      "memory usage: 1.4+ MB\n"
     ]
    },
    {
     "data": {
      "text/html": [
       "<div>\n",
       "<style scoped>\n",
       "    .dataframe tbody tr th:only-of-type {\n",
       "        vertical-align: middle;\n",
       "    }\n",
       "\n",
       "    .dataframe tbody tr th {\n",
       "        vertical-align: top;\n",
       "    }\n",
       "\n",
       "    .dataframe thead th {\n",
       "        text-align: right;\n",
       "    }\n",
       "</style>\n",
       "<table border=\"1\" class=\"dataframe\">\n",
       "  <thead>\n",
       "    <tr style=\"text-align: right;\">\n",
       "      <th></th>\n",
       "      <th>rank</th>\n",
       "      <th>name</th>\n",
       "      <th>platform</th>\n",
       "      <th>year</th>\n",
       "      <th>genre</th>\n",
       "      <th>publisher</th>\n",
       "      <th>na_sales</th>\n",
       "      <th>eu_sales</th>\n",
       "      <th>jp_sales</th>\n",
       "      <th>other_sales</th>\n",
       "      <th>global_sales</th>\n",
       "    </tr>\n",
       "  </thead>\n",
       "  <tbody>\n",
       "    <tr>\n",
       "      <th>0</th>\n",
       "      <td>1</td>\n",
       "      <td>Wii Sports</td>\n",
       "      <td>Wii</td>\n",
       "      <td>2006.0</td>\n",
       "      <td>Sports</td>\n",
       "      <td>Nintendo</td>\n",
       "      <td>41.49</td>\n",
       "      <td>29.02</td>\n",
       "      <td>3.77</td>\n",
       "      <td>8.46</td>\n",
       "      <td>82.74</td>\n",
       "    </tr>\n",
       "    <tr>\n",
       "      <th>1</th>\n",
       "      <td>2</td>\n",
       "      <td>Super Mario Bros.</td>\n",
       "      <td>NES</td>\n",
       "      <td>1985.0</td>\n",
       "      <td>Platform</td>\n",
       "      <td>Nintendo</td>\n",
       "      <td>29.08</td>\n",
       "      <td>3.58</td>\n",
       "      <td>6.81</td>\n",
       "      <td>0.77</td>\n",
       "      <td>40.24</td>\n",
       "    </tr>\n",
       "    <tr>\n",
       "      <th>2</th>\n",
       "      <td>3</td>\n",
       "      <td>Mario Kart Wii</td>\n",
       "      <td>Wii</td>\n",
       "      <td>2008.0</td>\n",
       "      <td>Racing</td>\n",
       "      <td>Nintendo</td>\n",
       "      <td>15.85</td>\n",
       "      <td>12.88</td>\n",
       "      <td>3.79</td>\n",
       "      <td>3.31</td>\n",
       "      <td>35.82</td>\n",
       "    </tr>\n",
       "    <tr>\n",
       "      <th>3</th>\n",
       "      <td>4</td>\n",
       "      <td>Wii Sports Resort</td>\n",
       "      <td>Wii</td>\n",
       "      <td>2009.0</td>\n",
       "      <td>Sports</td>\n",
       "      <td>Nintendo</td>\n",
       "      <td>15.75</td>\n",
       "      <td>11.01</td>\n",
       "      <td>3.28</td>\n",
       "      <td>2.96</td>\n",
       "      <td>33.00</td>\n",
       "    </tr>\n",
       "    <tr>\n",
       "      <th>4</th>\n",
       "      <td>5</td>\n",
       "      <td>Pokemon Red/Pokemon Blue</td>\n",
       "      <td>GB</td>\n",
       "      <td>1996.0</td>\n",
       "      <td>Role-Playing</td>\n",
       "      <td>Nintendo</td>\n",
       "      <td>11.27</td>\n",
       "      <td>8.89</td>\n",
       "      <td>10.22</td>\n",
       "      <td>1.00</td>\n",
       "      <td>31.37</td>\n",
       "    </tr>\n",
       "  </tbody>\n",
       "</table>\n",
       "</div>"
      ],
      "text/plain": [
       "   rank                      name platform    year         genre publisher  \\\n",
       "0     1                Wii Sports      Wii  2006.0        Sports  Nintendo   \n",
       "1     2         Super Mario Bros.      NES  1985.0      Platform  Nintendo   \n",
       "2     3            Mario Kart Wii      Wii  2008.0        Racing  Nintendo   \n",
       "3     4         Wii Sports Resort      Wii  2009.0        Sports  Nintendo   \n",
       "4     5  Pokemon Red/Pokemon Blue       GB  1996.0  Role-Playing  Nintendo   \n",
       "\n",
       "   na_sales  eu_sales  jp_sales  other_sales  global_sales  \n",
       "0     41.49     29.02      3.77         8.46         82.74  \n",
       "1     29.08      3.58      6.81         0.77         40.24  \n",
       "2     15.85     12.88      3.79         3.31         35.82  \n",
       "3     15.75     11.01      3.28         2.96         33.00  \n",
       "4     11.27      8.89     10.22         1.00         31.37  "
      ]
     },
     "execution_count": 1,
     "metadata": {},
     "output_type": "execute_result"
    }
   ],
   "source": [
    "import csv\n",
    "import openpyxl\n",
    "from openpyxl import Workbook   \n",
    "from openpyxl.utils.dataframe import dataframe_to_rows\n",
    "from openpyxl import load_workbook \n",
    "from openpyxl.utils import get_column_letter\n",
    "from openpyxl.styles import PatternFill\n",
    "from openpyxl.chart import BarChart, Reference\n",
    "from openpyxl.styles import Font, Border, Side\n",
    "from openpyxl.styles import Alignment\n",
    "from openpyxl.chart.label import DataLabelList\n",
    "from openpyxl.worksheet.datavalidation import DataValidation\n",
    "from openpyxl.utils import quote_sheetname\n",
    "from openpyxl.utils.cell import coordinate_from_string, column_index_from_string\n",
    "import pandas as pd\n",
    "\n",
    "# Lecture du fichier CSV et création du dataframe\n",
    "df = pd.read_csv(\"video_games_sales.csv\")\n",
    "# Affichage de la structure du dataframe\n",
    "df.info()\n",
    "# Affichage des 5 premières lignes du dataframe\n",
    "df.head()"
   ]
  },
  {
   "cell_type": "markdown",
   "id": "33e967da",
   "metadata": {},
   "source": [
    "Voici à quoi ressemble notre jeu de données, il a été trouvé sur Kaggle et contient l'ensemble des ventes de jeux vidéos sur plusieurs plateformes en fonction des régions du monde. "
   ]
  },
  {
   "cell_type": "markdown",
   "id": "153f6242",
   "metadata": {},
   "source": [
    "# Traitement des données"
   ]
  },
  {
   "cell_type": "markdown",
   "id": "cf1df14c",
   "metadata": {},
   "source": [
    "**On observe ici plusieurs problèmes :**\n",
    "    \n",
    "\n",
    "1) Nous allons traiter les potentielles données manquantes <br>\n",
    "2) les éléments de la colonnes **\"year\"** n'ont pas la bonne forme, il faut supprimer le **\".0\"** à la fin de chaque ligne. <br>\n",
    "3) les éléments des colonnes **\"na_sales\"**, **\"eu_sales\"**, **\"jp_sales\"**, **\"other_sales\"** utilisent un **\".\"** pour délimiter la partie entière de la partie décimale. Ce n'est pas un problème (bien au contraire) pour Python cependant pour Excel, il faut une virgule. J'utiliserai le paramètre **decimal = ','** lors des exports en csv/xlsx. <br>\n"
   ]
  },
  {
   "cell_type": "markdown",
   "id": "b859e685",
   "metadata": {},
   "source": [
    "## 1) Données manquantes "
   ]
  },
  {
   "cell_type": "code",
   "execution_count": 2,
   "id": "3312fe49",
   "metadata": {},
   "outputs": [
    {
     "name": "stdout",
     "output_type": "stream",
     "text": [
      "rank              0\n",
      "name              0\n",
      "platform          0\n",
      "year            271\n",
      "genre             0\n",
      "publisher        58\n",
      "na_sales          0\n",
      "eu_sales          0\n",
      "jp_sales          0\n",
      "other_sales       0\n",
      "global_sales      0\n",
      "dtype: int64\n"
     ]
    }
   ],
   "source": [
    "# Afficher les données manquantes par colonnes\n",
    "print(df.isna().sum(axis=0))"
   ]
  },
  {
   "cell_type": "markdown",
   "id": "830f9751",
   "metadata": {},
   "source": [
    "Nous avons 271 valeurs manquantes pour l'année et 58 concernant l'éditeur. \n",
    "Nous allons regarder ce qu'elles contiennent."
   ]
  },
  {
   "cell_type": "code",
   "execution_count": 3,
   "id": "4258d7ef",
   "metadata": {},
   "outputs": [
    {
     "name": "stdout",
     "output_type": "stream",
     "text": [
      "     rank                                         name platform  year  \\\n",
      "179   180                              Madden NFL 2004      PS2   NaN   \n",
      "377   378                             FIFA Soccer 2004      PS2   NaN   \n",
      "431   432                   LEGO Batman: The Videogame      Wii   NaN   \n",
      "470   471                   wwe Smackdown vs. Raw 2006      PS2   NaN   \n",
      "607   608                               Space Invaders     2600   NaN   \n",
      "624   625                                    Rock Band     X360   NaN   \n",
      "649   650     Frogger's Adventures: Temple of the Frog      GBA   NaN   \n",
      "652   653  LEGO Indiana Jones: The Original Adventures      Wii   NaN   \n",
      "711   713                               Call of Duty 3      Wii   NaN   \n",
      "782   784                                    Rock Band      Wii   NaN   \n",
      "\n",
      "         genre                               publisher  na_sales  eu_sales  \\\n",
      "179     Sports                         Electronic Arts      4.26      0.26   \n",
      "377     Sports                         Electronic Arts      0.59      2.36   \n",
      "431     Action  Warner Bros. Interactive Entertainment      1.86      1.02   \n",
      "470   Fighting                                     NaN      1.57      1.02   \n",
      "607    Shooter                                   Atari      2.36      0.14   \n",
      "624       Misc                         Electronic Arts      1.93      0.34   \n",
      "649  Adventure            Konami Digital Entertainment      2.15      0.18   \n",
      "652     Action                               LucasArts      1.54      0.63   \n",
      "711    Shooter                              Activision      1.19      0.84   \n",
      "782       Misc                               MTV Games      1.35      0.56   \n",
      "\n",
      "     jp_sales  other_sales  global_sales  \n",
      "179      0.01         0.71          5.23  \n",
      "377      0.04         0.51          3.49  \n",
      "431      0.00         0.29          3.17  \n",
      "470      0.00         0.41          3.00  \n",
      "607      0.00         0.03          2.53  \n",
      "624      0.00         0.21          2.48  \n",
      "649      0.00         0.07          2.39  \n",
      "652      0.00         0.22          2.39  \n",
      "711      0.00         0.23          2.26  \n",
      "782      0.00         0.20          2.11  \n"
     ]
    }
   ],
   "source": [
    "top_10_missing_years = df[df['year'].isnull()].sort_values(by='global_sales', ascending=False).head(10)\n",
    "print(top_10_missing_years)"
   ]
  },
  {
   "cell_type": "markdown",
   "id": "9435433a",
   "metadata": {},
   "source": [
    "Heureusement pour nous, ce sont plus ou moins des jeux peu vendus. Malheureusement, nous ne pouvons pas retrouver l'information de la date de sortie de manière simple et rapide, nous allons donc les supprimer. De plus, conserver ces données pourrait poser des problèmes dans le reporting à cause des valeurs manquantes. "
   ]
  },
  {
   "cell_type": "code",
   "execution_count": 4,
   "id": "49b301d7",
   "metadata": {},
   "outputs": [
    {
     "name": "stdout",
     "output_type": "stream",
     "text": [
      "      rank                                               name platform  \\\n",
      "470    471                         wwe Smackdown vs. Raw 2006      PS2   \n",
      "1303  1305                                     Triple Play 99       PS   \n",
      "1662  1664       Shrek / Shrek 2 2-in-1 Gameboy Advance Video      GBA   \n",
      "2222  2224                                 Bentley's Hackpack      GBA   \n",
      "3159  3161  Nicktoons Collection: Game Boy Advance Video V...      GBA   \n",
      "3166  3168  SpongeBob SquarePants: Game Boy Advance Video ...      GBA   \n",
      "3766  3768  SpongeBob SquarePants: Game Boy Advance Video ...      GBA   \n",
      "4145  4147                                 Sonic the Hedgehog      PS3   \n",
      "4526  4528  The Fairly Odd Parents: Game Boy Advance Video...      GBA   \n",
      "4635  4637  The Fairly Odd Parents: Game Boy Advance Video...      GBA   \n",
      "\n",
      "        year     genre publisher  na_sales  eu_sales  jp_sales  other_sales  \\\n",
      "470      NaN  Fighting       NaN      1.57      1.02       0.0         0.41   \n",
      "1303     NaN    Sports       NaN      0.81      0.55       0.0         0.10   \n",
      "1662  2007.0      Misc       NaN      0.87      0.32       0.0         0.02   \n",
      "2222  2005.0      Misc       NaN      0.67      0.25       0.0         0.02   \n",
      "3159  2004.0      Misc       NaN      0.46      0.17       0.0         0.01   \n",
      "3166  2004.0      Misc       NaN      0.46      0.17       0.0         0.01   \n",
      "3766  2004.0      Misc       NaN      0.38      0.14       0.0         0.01   \n",
      "4145     NaN  Platform       NaN      0.00      0.48       0.0         0.00   \n",
      "4526  2004.0      Misc       NaN      0.31      0.11       0.0         0.01   \n",
      "4635  2004.0      Misc       NaN      0.30      0.11       0.0         0.01   \n",
      "\n",
      "      global_sales  \n",
      "470           3.00  \n",
      "1303          1.46  \n",
      "1662          1.21  \n",
      "2222          0.93  \n",
      "3159          0.64  \n",
      "3166          0.64  \n",
      "3766          0.53  \n",
      "4145          0.48  \n",
      "4526          0.43  \n",
      "4635          0.42  \n"
     ]
    }
   ],
   "source": [
    "top_10_missing_publisher = df[df['publisher'].isnull()].sort_values(by='global_sales', ascending=False).head(10)\n",
    "print(top_10_missing_publisher)"
   ]
  },
  {
   "cell_type": "markdown",
   "id": "0a8d338e",
   "metadata": {},
   "source": [
    "Même conclusion que sur la colonne \"year\""
   ]
  },
  {
   "cell_type": "code",
   "execution_count": 5,
   "id": "b980b418",
   "metadata": {},
   "outputs": [
    {
     "name": "stdout",
     "output_type": "stream",
     "text": [
      "<class 'pandas.core.frame.DataFrame'>\n",
      "Int64Index: 16291 entries, 0 to 16597\n",
      "Data columns (total 11 columns):\n",
      " #   Column        Non-Null Count  Dtype  \n",
      "---  ------        --------------  -----  \n",
      " 0   rank          16291 non-null  int64  \n",
      " 1   name          16291 non-null  object \n",
      " 2   platform      16291 non-null  object \n",
      " 3   year          16291 non-null  float64\n",
      " 4   genre         16291 non-null  object \n",
      " 5   publisher     16291 non-null  object \n",
      " 6   na_sales      16291 non-null  float64\n",
      " 7   eu_sales      16291 non-null  float64\n",
      " 8   jp_sales      16291 non-null  float64\n",
      " 9   other_sales   16291 non-null  float64\n",
      " 10  global_sales  16291 non-null  float64\n",
      "dtypes: float64(6), int64(1), object(4)\n",
      "memory usage: 1.5+ MB\n"
     ]
    }
   ],
   "source": [
    "df = df.dropna()\n",
    "df.info()"
   ]
  },
  {
   "cell_type": "markdown",
   "id": "02c78234",
   "metadata": {},
   "source": [
    "## 2) Traitement de la colonne \"year\""
   ]
  },
  {
   "cell_type": "markdown",
   "id": "102d6847",
   "metadata": {},
   "source": [
    "Je vais tout simplement convertir la colonne \"year\" en **int** depuis le type **float**. De cette façon, la partie décimale va disparaître. "
   ]
  },
  {
   "cell_type": "code",
   "execution_count": 6,
   "id": "fd60447c",
   "metadata": {},
   "outputs": [
    {
     "data": {
      "text/html": [
       "<div>\n",
       "<style scoped>\n",
       "    .dataframe tbody tr th:only-of-type {\n",
       "        vertical-align: middle;\n",
       "    }\n",
       "\n",
       "    .dataframe tbody tr th {\n",
       "        vertical-align: top;\n",
       "    }\n",
       "\n",
       "    .dataframe thead th {\n",
       "        text-align: right;\n",
       "    }\n",
       "</style>\n",
       "<table border=\"1\" class=\"dataframe\">\n",
       "  <thead>\n",
       "    <tr style=\"text-align: right;\">\n",
       "      <th></th>\n",
       "      <th>rank</th>\n",
       "      <th>name</th>\n",
       "      <th>platform</th>\n",
       "      <th>year</th>\n",
       "      <th>genre</th>\n",
       "      <th>publisher</th>\n",
       "      <th>na_sales</th>\n",
       "      <th>eu_sales</th>\n",
       "      <th>jp_sales</th>\n",
       "      <th>other_sales</th>\n",
       "      <th>global_sales</th>\n",
       "    </tr>\n",
       "  </thead>\n",
       "  <tbody>\n",
       "    <tr>\n",
       "      <th>0</th>\n",
       "      <td>1</td>\n",
       "      <td>Wii Sports</td>\n",
       "      <td>Wii</td>\n",
       "      <td>2006</td>\n",
       "      <td>Sports</td>\n",
       "      <td>Nintendo</td>\n",
       "      <td>41.49</td>\n",
       "      <td>29.02</td>\n",
       "      <td>3.77</td>\n",
       "      <td>8.46</td>\n",
       "      <td>82.74</td>\n",
       "    </tr>\n",
       "    <tr>\n",
       "      <th>1</th>\n",
       "      <td>2</td>\n",
       "      <td>Super Mario Bros.</td>\n",
       "      <td>NES</td>\n",
       "      <td>1985</td>\n",
       "      <td>Platform</td>\n",
       "      <td>Nintendo</td>\n",
       "      <td>29.08</td>\n",
       "      <td>3.58</td>\n",
       "      <td>6.81</td>\n",
       "      <td>0.77</td>\n",
       "      <td>40.24</td>\n",
       "    </tr>\n",
       "    <tr>\n",
       "      <th>2</th>\n",
       "      <td>3</td>\n",
       "      <td>Mario Kart Wii</td>\n",
       "      <td>Wii</td>\n",
       "      <td>2008</td>\n",
       "      <td>Racing</td>\n",
       "      <td>Nintendo</td>\n",
       "      <td>15.85</td>\n",
       "      <td>12.88</td>\n",
       "      <td>3.79</td>\n",
       "      <td>3.31</td>\n",
       "      <td>35.82</td>\n",
       "    </tr>\n",
       "    <tr>\n",
       "      <th>3</th>\n",
       "      <td>4</td>\n",
       "      <td>Wii Sports Resort</td>\n",
       "      <td>Wii</td>\n",
       "      <td>2009</td>\n",
       "      <td>Sports</td>\n",
       "      <td>Nintendo</td>\n",
       "      <td>15.75</td>\n",
       "      <td>11.01</td>\n",
       "      <td>3.28</td>\n",
       "      <td>2.96</td>\n",
       "      <td>33.00</td>\n",
       "    </tr>\n",
       "    <tr>\n",
       "      <th>4</th>\n",
       "      <td>5</td>\n",
       "      <td>Pokemon Red/Pokemon Blue</td>\n",
       "      <td>GB</td>\n",
       "      <td>1996</td>\n",
       "      <td>Role-Playing</td>\n",
       "      <td>Nintendo</td>\n",
       "      <td>11.27</td>\n",
       "      <td>8.89</td>\n",
       "      <td>10.22</td>\n",
       "      <td>1.00</td>\n",
       "      <td>31.37</td>\n",
       "    </tr>\n",
       "  </tbody>\n",
       "</table>\n",
       "</div>"
      ],
      "text/plain": [
       "   rank                      name platform  year         genre publisher  \\\n",
       "0     1                Wii Sports      Wii  2006        Sports  Nintendo   \n",
       "1     2         Super Mario Bros.      NES  1985      Platform  Nintendo   \n",
       "2     3            Mario Kart Wii      Wii  2008        Racing  Nintendo   \n",
       "3     4         Wii Sports Resort      Wii  2009        Sports  Nintendo   \n",
       "4     5  Pokemon Red/Pokemon Blue       GB  1996  Role-Playing  Nintendo   \n",
       "\n",
       "   na_sales  eu_sales  jp_sales  other_sales  global_sales  \n",
       "0     41.49     29.02      3.77         8.46         82.74  \n",
       "1     29.08      3.58      6.81         0.77         40.24  \n",
       "2     15.85     12.88      3.79         3.31         35.82  \n",
       "3     15.75     11.01      3.28         2.96         33.00  \n",
       "4     11.27      8.89     10.22         1.00         31.37  "
      ]
     },
     "execution_count": 6,
     "metadata": {},
     "output_type": "execute_result"
    }
   ],
   "source": [
    "df[\"year\"] = df[\"year\"].astype(int)\n",
    "df.head()"
   ]
  },
  {
   "cell_type": "markdown",
   "id": "cb1d92f0",
   "metadata": {},
   "source": [
    "# Création d'un nouveau fichier Excel "
   ]
  },
  {
   "cell_type": "markdown",
   "id": "e9290fff",
   "metadata": {},
   "source": [
    "Je vais créer un nouveau fichier Excel qui contiendra les données nettoyées dans un onglet \"cleaned_data\". \n",
    "Le fichier contiendra également les différents tableaux de bords. "
   ]
  },
  {
   "cell_type": "code",
   "execution_count": 7,
   "id": "f500ef6e",
   "metadata": {},
   "outputs": [],
   "source": [
    "# Ecrire le dataframe dans un fichier Excel avec Pandas\n",
    "with pd.ExcelWriter('Dashboards.xlsx') as writer:\n",
    "    df.to_excel(writer, sheet_name='cleaned_data', index=False) #l'onglet sera nommé \"cleaned_data\""
   ]
  },
  {
   "cell_type": "markdown",
   "id": "d478d867",
   "metadata": {},
   "source": [
    "Voici un aperçu des données qui ont été collé dans le nouveau fichier Excel, on remarque que grâce à Pandas le séparateur des décimales pour les colonnes \"na_sales\",\"eu_sales\"...\"global_sales\" a bien été remplacé par une virgule."
   ]
  },
  {
   "cell_type": "code",
   "execution_count": 8,
   "id": "c2062ed4",
   "metadata": {},
   "outputs": [
    {
     "data": {
      "image/png": "[encoded data removed]",
      "text/plain": [
       "<IPython.core.display.Image object>"
      ]
     },
     "execution_count": 8,
     "metadata": {},
     "output_type": "execute_result"
    }
   ],
   "source": [
    "from IPython.display import Image\n",
    "\n",
    "Image(filename='./img/cleaned_data.png')"
   ]
  },
  {
   "cell_type": "markdown",
   "id": "c22d0a43",
   "metadata": {},
   "source": [
    "# Création d'un onglet Ressources "
   ]
  },
  {
   "cell_type": "markdown",
   "id": "e50d1a60",
   "metadata": {},
   "source": [
    "Cet onglet est nécessaire pour alimenter les listes de validation dans les filtres. \n",
    "Je vais récupérer l'année, le genre, l'éditeur et la console avec la fonction UNIQUE() depuis l'onglet \"cleaned_data\" dans \"Ressources\"."
   ]
  },
  {
   "cell_type": "code",
   "execution_count": 9,
   "id": "db868660",
   "metadata": {},
   "outputs": [],
   "source": [
    "# Ouvrir le fichier\n",
    "wb = openpyxl.load_workbook('Dashboards.xlsx')\n",
    "\n",
    "# Vérifier si la feuille existe\n",
    "if 'Ressources' not in wb.sheetnames:\n",
    "    # Créer la feuille\n",
    "       ress_sheet = wb.create_sheet('Ressources')\n",
    "else :\n",
    "    ress_sheet = wb['Ressources']\n",
    "\n",
    "\n",
    "    \n",
    "#Consoles\n",
    "list1 = ress_sheet['A1']\n",
    "formula =  \"=_xlfn.UNIQUE(cleaned_data!C:C)\"\n",
    "list1.value = formula \n",
    "ress_sheet.formula_attributes['A1'] = {'t': 'array', 'ref': \"A1:A32\"}\n",
    "\n",
    "#Année \n",
    "list2 = ress_sheet['B1']\n",
    "formula = \"=_xlfn.SORT(_xlfn.UNIQUE(cleaned_data!D:D))\"\n",
    "list2.value= formula\n",
    "ress_sheet.formula_attributes['B1'] = {'t': 'array', 'ref': \"B1:B39\"}\n",
    "\n",
    "#Genre\n",
    "list3 = ress_sheet['C1']\n",
    "formula = \"=_xlfn.UNIQUE(cleaned_data!E:E)\"\n",
    "list3.value = formula \n",
    "ress_sheet.formula_attributes['C1'] = {'t': 'array', 'ref': \"C1:C13\"}\n",
    "\n",
    "#Editeur \n",
    "list4 = ress_sheet['D1']\n",
    "formula = \"=_xlfn.UNIQUE(cleaned_data!F:F)\"\n",
    "list4.value = formula \n",
    "ress_sheet.formula_attributes['D1'] = {'t': 'array', 'ref': \"D1:D577\"}\n",
    "\n",
    "# Sauvegarder le fichier \n",
    "wb.save('Dashboards.xlsx')\n",
    "wb.close()\n"
   ]
  },
  {
   "cell_type": "code",
   "execution_count": 10,
   "id": "80ea9083",
   "metadata": {},
   "outputs": [
    {
     "data": {
      "text/plain": [
       "False"
      ]
     },
     "execution_count": 10,
     "metadata": {},
     "output_type": "execute_result"
    }
   ],
   "source": [
    "from openpyxl.utils import FORMULAE\n",
    "\"UNIQUE\" in FORMULAE"
   ]
  },
  {
   "cell_type": "markdown",
   "id": "fa79937d",
   "metadata": {},
   "source": [
    "La fonction UNIQUE() n'étant pas prise en charge par le package de base openpyxl je dois préfixer les fonctions avec **_xlfn.** pour les rendre utilisables. De même pour SORT()."
   ]
  },
  {
   "cell_type": "markdown",
   "id": "e7482b01",
   "metadata": {},
   "source": [
    "ress_sheet.formula_attributes['A1'] = {'t': 'array', 'ref': \"A1:A32\"} \n",
    "\n",
    "Cette ligne de code a été le Saint-Graal du projet, elle permet de spécifier qu'une cellule fait référence à un tableau dynamique. Il y a des gros problèmes d'intéraction entre openpyxl et office v365. L'interface a également été totalement changé sur la version 2023. Ainsi, il est possible qu'en fonction de la version que vous utiliserez pour lire mon projet, que le code soit obsolète. "
   ]
  },
  {
   "cell_type": "code",
   "execution_count": 11,
   "id": "2f9098e2",
   "metadata": {},
   "outputs": [
    {
     "name": "stdout",
     "output_type": "stream",
     "text": [
      "3.0.10\n"
     ]
    }
   ],
   "source": [
    "# votre version d'openpyxl \n",
    "import openpyxl\n",
    "print(openpyxl.__version__)"
   ]
  },
  {
   "cell_type": "code",
   "execution_count": 12,
   "id": "cac408d7",
   "metadata": {},
   "outputs": [
    {
     "data": {
      "image/png": "[encoded data removed]",
      "text/plain": [
       "<IPython.core.display.Image object>"
      ]
     },
     "execution_count": 12,
     "metadata": {},
     "output_type": "execute_result"
    }
   ],
   "source": [
    "Image('./img/version_openpyxl.png')"
   ]
  },
  {
   "cell_type": "markdown",
   "id": "08fd65f8",
   "metadata": {},
   "source": [
    "# Création du premier dashboard"
   ]
  },
  {
   "cell_type": "markdown",
   "id": "9fc21479",
   "metadata": {},
   "source": [
    "Ce premier tableau de bord sera un tableau de bord intéractif avec des filtres. Je vais me concentrer sur les ventes totales, les ventes américaines et les ventes en Europe. <br> L'utilisateur aura la possibilité de saisir l'année, le genre et la/les plateforme(s) à observer. Ainsi l'utilisateur pourra consulter un ou des TOP 5 des jeux vendus. <br> Ce tableau de bord contiendra également des informations comme le nombre de jeux sortis ou le nombre de jeux vendus de façon générale, des indicateurs en quelque sorte."
   ]
  },
  {
   "cell_type": "markdown",
   "id": "f3e332a3",
   "metadata": {},
   "source": [
    "## Création des filtres \"Année\",\"Plateforme\",\"Genre\""
   ]
  },
  {
   "cell_type": "markdown",
   "id": "6710f200",
   "metadata": {},
   "source": [
    "### Filtre 1 : L'année"
   ]
  },
  {
   "cell_type": "code",
   "execution_count": 13,
   "id": "7b61d18e",
   "metadata": {
    "scrolled": true
   },
   "outputs": [],
   "source": [
    "# Ouvrir le fichier\n",
    "wb = openpyxl.load_workbook('Dashboards.xlsx')\n",
    "\n",
    "# Vérifier si la feuille existe\n",
    "if 'TDB_1' not in wb.sheetnames:\n",
    "    # Créer la feuille\n",
    "       TDB1_sheet = wb.create_sheet('TDB_1')\n",
    "        \n",
    "    \n",
    "# Nom de l'onglet contenant la liste de validation    \n",
    "list_sheetname = 'Ressources'\n",
    "list_sheet = wb[list_sheetname]\n",
    "TDB1_sheet = wb['TDB_1']\n",
    "\n",
    "# Retirer la grille \n",
    "TDB1_sheet.sheet_view.showGridLines = False \n",
    "\n",
    "#Titre du filtre\n",
    "filter_1_cell = TDB1_sheet['A1']\n",
    "filter_1_cell.value = 'Année'\n",
    "filter_1_cell.alignment  = Alignment(horizontal='center', vertical='center')\n",
    "\n",
    "# Changer la couleur de la cellule\n",
    "filter_1_cell.fill = PatternFill(start_color='00C0C0C0', end_color='00C0C0C0', fill_type='solid')\n",
    "\n",
    "## Fusionner les cellules A1,A2,B1,B2\n",
    "TDB1_sheet.merge_cells(start_row=1, start_column=1, end_row=2, end_column=2)\n",
    "\n",
    "# Créer une liste de validation de données en donnant les valeurs de la colonne B \n",
    "# On commence à 1 car la colonne est trier\n",
    "# Taille de 39 pour ne pas prendre en compte le 0 et l'entête \"year\" de la fin\n",
    "formula = '{0}!$B$1:$B${1}'.format(quote_sheetname(list_sheetname), 39)\n",
    "dv = DataValidation(type='list', formula1=formula)\n",
    "\n",
    "\n",
    "# Valeur du filtre \n",
    "val_filter_1_cell = TDB1_sheet['C1']\n",
    "val_filter_1_cell.value = 2009 #valeur par défaut, l'utilisateur pourra la changer \n",
    "val_filter_1_cell.alignment  = Alignment(horizontal='center', vertical='center')\n",
    "\n",
    "# Changer la couleur de la cellule\n",
    "val_filter_1_cell.fill = PatternFill(start_color='00C0C0C0', end_color='00C0C0C0', fill_type='solid')\n",
    "\n",
    "\n",
    "#Ajouter la liste de validation \n",
    "TDB1_sheet.add_data_validation(dv)\n",
    "\n",
    "## Fusionner les cellules C1,C2,D1,D2\n",
    "TDB1_sheet.merge_cells(start_row=1, start_column=3, end_row=2, end_column=4)\n",
    "\n",
    "# Select de la cellule G1 et on applique la validation\n",
    "col_idx, row_idx = 3, 1\n",
    "coord = '{}{}'.format(openpyxl.utils.get_column_letter(col_idx), row_idx)\n",
    "dv.add(coord)\n",
    "\n",
    "# Sauvegarder le fichier \n",
    "wb.save('Dashboards.xlsx')\n",
    "wb.close()"
   ]
  },
  {
   "cell_type": "markdown",
   "id": "e8bc309c",
   "metadata": {},
   "source": [
    "Quelques explications sur le code et les fonctions utilisées, je crée un filtre en C1 en utilisant de la validation de données. J'utilise une liste de validation à partir du fichier Ressources et de la colonne année avec une formule et la fonction DataValidation().<br> J'applique également du style aux cellules en les fusionnant ou en changeant leur couleur avec les fonctions merge_cells() et PatternFill()"
   ]
  },
  {
   "cell_type": "markdown",
   "id": "532c4909",
   "metadata": {},
   "source": [
    "### Filtre 2 : La plateforme"
   ]
  },
  {
   "cell_type": "markdown",
   "id": "06c6adb6",
   "metadata": {},
   "source": [
    "Il y aura deux filtres plateformes, de cette façon il sera possible de faire des tableaux comparatifs. "
   ]
  },
  {
   "cell_type": "code",
   "execution_count": 14,
   "id": "ef8c83a9",
   "metadata": {},
   "outputs": [],
   "source": [
    "# Ouvrir le fichier\n",
    "wb = openpyxl.load_workbook('Dashboards.xlsx')\n",
    "\n",
    "\n",
    "# Nom de l'onglet contenant la liste de validation\n",
    "list_sheetname = 'Ressources'\n",
    "\n",
    "# Sélectionner les onglets \n",
    "list_sheet = wb[list_sheetname]\n",
    "TDB1_sheet = wb['TDB_1']\n",
    "\n",
    "\n",
    "#Titre du filtre\n",
    "filter_2_cell = TDB1_sheet['E1']\n",
    "filter_2_cell.value = 'Plateforme'\n",
    "filter_2_cell.alignment  = Alignment(horizontal='center', vertical='center')\n",
    "\n",
    "# Changer la couleur de la cellule\n",
    "filter_2_cell.fill = PatternFill(start_color='00C0C0C0', end_color='00C0C0C0', fill_type='solid')\n",
    "\n",
    "## Fusionner les cellules \n",
    "TDB1_sheet.merge_cells(start_row=1, start_column=5, end_row=2, end_column=6)\n",
    "\n",
    "\n",
    "\n",
    "# Créer une liste de validation de données en donnant les valeurs de la colonne A \n",
    "# On commence à 2 pour skip l'entête\n",
    "# Taille de 32 pour ne pas prendre en compte le 0 de la fin\n",
    "formula = '{0}!$A$2:$A${1}'.format(quote_sheetname(list_sheetname), 32)\n",
    "dv = DataValidation(type='list', formula1=formula)\n",
    "\n",
    "\n",
    "# Valeur du filtre 1\n",
    "val_filter_2_cell = TDB1_sheet['G1']\n",
    "val_filter_2_cell.value = 'PS3' #valeur par défaut, l'utilisateur pourra la changer \n",
    "val_filter_2_cell.alignment  = Alignment(horizontal='center', vertical='center')\n",
    "\n",
    "\n",
    "\n",
    "# Valeur du filtre 2\n",
    "val_filter_22_cell = TDB1_sheet['G3']\n",
    "val_filter_22_cell.value = 'X360' #valeur par défaut, l'utilisateur pourra la changer \n",
    "val_filter_22_cell.alignment  = Alignment(horizontal='center', vertical='center')\n",
    "\n",
    "# Changer la couleur des cellules\n",
    "val_filter_2_cell.fill = PatternFill(start_color='00C0C0C0', end_color='00C0C0C0', fill_type='solid')\n",
    "val_filter_22_cell.fill = PatternFill(start_color='F2F2F2', end_color='F2F2F2', fill_type='solid')\n",
    "\n",
    "#Ajouter la liste de validation \n",
    "TDB1_sheet.add_data_validation(dv)\n",
    "\n",
    "## Fusionner les cellules \n",
    "TDB1_sheet.merge_cells(start_row=1, start_column=7, end_row=2, end_column=8)\n",
    "TDB1_sheet.merge_cells(start_row=3, start_column=7, end_row=4, end_column=8)\n",
    "\n",
    "# Select de la cellule G1 et on applique la validation\n",
    "col_idx, row_idx = 7, 1\n",
    "coord = '{}{}'.format(openpyxl.utils.get_column_letter(col_idx), row_idx)\n",
    "dv.add(coord)\n",
    "\n",
    "# Select de la cellule G3 et on applique la validation\n",
    "col_idx, row_idx = 7, 3\n",
    "coord = '{}{}'.format(openpyxl.utils.get_column_letter(col_idx), row_idx)\n",
    "dv.add(coord)\n",
    "\n",
    "# Sauvegarder le fichier \n",
    "wb.save('Dashboards.xlsx')\n",
    "wb.close()"
   ]
  },
  {
   "cell_type": "markdown",
   "id": "0b05ce7c",
   "metadata": {},
   "source": [
    "### Filtre 3 : Le genre "
   ]
  },
  {
   "cell_type": "code",
   "execution_count": 15,
   "id": "9514fcb1",
   "metadata": {},
   "outputs": [],
   "source": [
    "wb = openpyxl.load_workbook('Dashboards.xlsx')\n",
    "\n",
    "# Nom de l'onglet contenant la liste de validation\n",
    "list_sheetname = 'Ressources'\n",
    "\n",
    "# Sélectionner l'onglet contenant la liste de validation\n",
    "list_sheet = wb[list_sheetname]\n",
    "TDB1_sheet = wb['TDB_1']\n",
    "\n",
    "#Titre du filtre\n",
    "filter_3_cell = TDB1_sheet['I1']\n",
    "filter_3_cell.value = 'Genre'\n",
    "filter_3_cell.alignment  = Alignment(horizontal='center', vertical='center')\n",
    "\n",
    "# Changer la couleur de la cellule\n",
    "filter_3_cell.fill = PatternFill(start_color='00C0C0C0', end_color='00C0C0C0', fill_type='solid')\n",
    "\n",
    "## Fusionner les cellules \n",
    "TDB1_sheet.merge_cells(start_row=1, start_column=9, end_row=2, end_column=10)\n",
    "\n",
    "# Créer une liste de validation de données en donnant les valeurs de la colonne C \n",
    "# On commence à 2 pour skip l'entête et on retire 1 pour ne pas inclure le 0\n",
    "formula = '{0}!$C$2:$C${1}'.format(quote_sheetname(list_sheetname), 13)\n",
    "dv = DataValidation(type='list', formula1=formula)\n",
    "\n",
    "# Style de la cellule filtre\n",
    "val_filter_3_cell = TDB1_sheet['K1']\n",
    "val_filter_3_cell.value = 'Shooter' \n",
    "val_filter_3_cell.alignment = Alignment(horizontal='center', vertical='center')\n",
    "val_filter_3_cell.fill = PatternFill(start_color='00C0C0C0', end_color='00C0C0C0', fill_type='solid')\n",
    "\n",
    "#Ajouter la liste de validation \n",
    "TDB1_sheet.add_data_validation(dv)\n",
    "\n",
    "\n",
    "TDB1_sheet.merge_cells(start_row=1, start_column=11, end_row=2, end_column=12)\n",
    "\n",
    "col_idx, row_idx = 11, 1\n",
    "coord = '{}{}'.format(openpyxl.utils.get_column_letter(col_idx), row_idx)\n",
    "dv.add(coord)\n",
    "\n",
    "\n",
    "wb.save('Dashboards.xlsx')\n",
    "wb.close()"
   ]
  },
  {
   "cell_type": "markdown",
   "id": "b288028e",
   "metadata": {},
   "source": [
    "### Les bordures "
   ]
  },
  {
   "cell_type": "code",
   "execution_count": 16,
   "id": "46ecb914",
   "metadata": {},
   "outputs": [],
   "source": [
    "# Ouvrir le fichier\n",
    "wb = openpyxl.load_workbook('Dashboards.xlsx')\n",
    "\n",
    "# Sélectionner l'onglet\n",
    "TDB1_sheet = wb['TDB_1']\n",
    "\n",
    "#Style des bordures \n",
    "thin = Side(border_style=\"thin\", color=\"4D4D4D\")\n",
    "\n",
    "# Parcourir les cellules dans la plage spécifiée\n",
    "for row in TDB1_sheet.iter_rows(min_row=1, max_row=2, min_col=1, max_col=12):\n",
    "    for cell in row:\n",
    "        if cell.row == 2:\n",
    "            cell.border = Border(bottom=thin)\n",
    "            \n",
    "        else:\n",
    "            cell.border = None\n",
    "# Sauvegarder le fichier \n",
    "wb.save('Dashboards.xlsx')\n",
    "wb.close()"
   ]
  },
  {
   "cell_type": "code",
   "execution_count": 17,
   "id": "44fe8d53",
   "metadata": {},
   "outputs": [
    {
     "data": {
      "image/png": "[encoded data removed]",
      "text/plain": [
       "<IPython.core.display.Image object>"
      ]
     },
     "execution_count": 17,
     "metadata": {},
     "output_type": "execute_result"
    }
   ],
   "source": [
    "from IPython.display import Image\n",
    "\n",
    "Image(filename='./img/filters.png')"
   ]
  },
  {
   "cell_type": "markdown",
   "id": "637078d2",
   "metadata": {},
   "source": [
    "Voici un aperçu du rendu, les filtres sont maintenant terminés.  "
   ]
  },
  {
   "cell_type": "markdown",
   "id": "4b13fa10",
   "metadata": {},
   "source": [
    "## Création des tableaux"
   ]
  },
  {
   "cell_type": "markdown",
   "id": "31eba800",
   "metadata": {},
   "source": [
    "### Premier tableau"
   ]
  },
  {
   "cell_type": "markdown",
   "id": "2a09760e",
   "metadata": {},
   "source": [
    "Je vais créer un tableau avec un top 5 des jeux les plus vendus, ce tableau est dynamique au niveau des titres et de son contenu, les informations affichées dépendent de la saisie des filtres. "
   ]
  },
  {
   "cell_type": "code",
   "execution_count": 18,
   "id": "86773ac9",
   "metadata": {},
   "outputs": [],
   "source": [
    "\n",
    "wb = openpyxl.load_workbook('Dashboards.xlsx')\n",
    "\n",
    "# Sélectionner l'onglet\n",
    "TDB1_sheet = wb['TDB_1']\n",
    "\n",
    "\n",
    "#Titre dynamique\n",
    "title_cell = TDB1_sheet['A5']\n",
    "formula = f'=\"Les meilleurs jeux sur \" & G1 & \" en \" & C1'\n",
    "title_cell.value = formula\n",
    "title_cell.alignment  = Alignment(horizontal='center', vertical='center')\n",
    "title_cell.fill = PatternFill(start_color='8DB4E2', end_color='8DB4E2', fill_type='solid')\n",
    "## Fusionner les cellules \n",
    "TDB1_sheet.merge_cells(start_row=5, start_column=1, end_row=5, end_column=4)\n",
    "\n",
    "#Tableau1\n",
    "sheet = \"cleaned_data\"\n",
    "## Nom\n",
    "col_1_cell = TDB1_sheet['A6']\n",
    "col_1_cell.value = \"Nom\"\n",
    "col_1_cell.fill = PatternFill(start_color='C5D9F1', end_color='C5D9F1', fill_type='solid')\n",
    "\n",
    "## Ventes Totales\n",
    "col_2_cell = TDB1_sheet['B6']\n",
    "col_2_cell.value = 'Ventes Totales'\n",
    "col_2_cell.fill = PatternFill(start_color='C5D9F1', end_color='C5D9F1', fill_type='solid')\n",
    "\n",
    "## Ventes NA\n",
    "col_3_cell = TDB1_sheet['C6']\n",
    "col_3_cell.value = 'Ventes NA'\n",
    "col_3_cell.fill = PatternFill(start_color='C5D9F1', end_color='C5D9F1', fill_type='solid')\n",
    "\n",
    "## Ventes EU \n",
    "col_4_cell = TDB1_sheet['D6']\n",
    "col_4_cell.value = 'Ventes EU'\n",
    "col_4_cell.fill = PatternFill(start_color='C5D9F1', end_color='C5D9F1', fill_type='solid')\n",
    "\n",
    "\n",
    "#JEU 1 \n",
    "val_col_1 = TDB1_sheet['A7']\n",
    "formula_2 =  f'= INDEX({sheet}!$B:$B, MATCH(LARGE(IF(({sheet}!$C:$C=$G$1)*({sheet}!$D:$D=$C$1),{sheet}!$K:$K), 1),IF(( {sheet}!$C:$C=$G$1)*({sheet}!$D:$D=$C$1), {sheet}!$K:$K), 0))'\n",
    "val_col_1.value = formula_2\n",
    "TDB1_sheet.formula_attributes['A7'] = {'t': 'array', 'ref': \"A7:A7\"}\n",
    "\n",
    "#JEU 2\n",
    "val_col_1_2 = TDB1_sheet['A8']\n",
    "formula_3 =  f'= INDEX({sheet}!$B:$B, MATCH(LARGE(IF(({sheet}!$C:$C=$G$1)*({sheet}!$D:$D=$C$1),{sheet}!$K:$K), 2),IF(( {sheet}!$C:$C=$G$1)*({sheet}!$D:$D=$C$1), {sheet}!$K:$K), 0))'\n",
    "val_col_1_2.value = formula_3\n",
    "TDB1_sheet.formula_attributes['A8'] = {'t': 'array', 'ref': \"A8:A8\"}\n",
    "\n",
    "#JEU 3\n",
    "val_col_1_3 = TDB1_sheet['A9']\n",
    "formula_4 =  f'= INDEX({sheet}!$B:$B, MATCH(LARGE(IF(( {sheet}!$C:$C=$G$1)*({sheet}!$D:$D=$C$1),{sheet}!$K:$K), 3),IF(( {sheet}!$C:$C=$G$1)*({sheet}!$D:$D=$C$1), {sheet}!$K:$K), 0))'\n",
    "val_col_1_3.value = formula_4\n",
    "TDB1_sheet.formula_attributes['A9'] = {'t': 'array', 'ref': \"A9:A9\"}\n",
    "\n",
    "#JEU 4\n",
    "val_col_1_4 = TDB1_sheet['A10']\n",
    "formula_5 =  f'= INDEX({sheet}!$B:$B, MATCH(LARGE(IF(( {sheet}!$C:$C=$G$1)*({sheet}!$D:$D=$C$1),{sheet}!$K:$K), 4),IF(( {sheet}!$C:$C=$G$1)*({sheet}!$D:$D=$C$1), {sheet}!$K:$K), 0))'\n",
    "val_col_1_4.value = formula_5\n",
    "TDB1_sheet.formula_attributes['A10'] = {'t': 'array', 'ref': \"A10:A10\"}\n",
    "\n",
    "#JEU 5\n",
    "val_col_1_5 = TDB1_sheet['A11']\n",
    "formula_6 =  f'= INDEX({sheet}!$B:$B, MATCH(LARGE(IF(({sheet}!$C:$C=$G$1)*({sheet}!$D:$D=$C$1),{sheet}!$K:$K), 5),IF(({sheet}!$C:$C=$G$1)*({sheet}!$D:$D=$C$1), {sheet}!$K:$K), 0))'\n",
    "val_col_1_5.value = formula_6\n",
    "TDB1_sheet.formula_attributes['A11'] = {'t': 'array', 'ref': \"A11:A11\"}\n",
    "\n",
    "# Sauvegarder le fichier \n",
    "wb.save('Dashboards.xlsx')\n",
    "wb.close()"
   ]
  },
  {
   "cell_type": "markdown",
   "id": "de29a914",
   "metadata": {},
   "source": [
    "On passe aux autres formules pour récupérer les ventes totales, aux USA et en Europe. Après l'avoir fait la première fois à la main on passe sur une boucle pour gagner du temps. "
   ]
  },
  {
   "cell_type": "code",
   "execution_count": 19,
   "id": "4e5bd19e",
   "metadata": {},
   "outputs": [],
   "source": [
    "wb = openpyxl.load_workbook('Dashboards.xlsx')\n",
    "\n",
    "# Sélectionner l'onglet\n",
    "TDB1_sheet = wb['TDB_1']\n",
    "\n",
    "# Ventes tot\n",
    "for i in range(1, 6):\n",
    "    cell = TDB1_sheet.cell(row=6+i, column=2)\n",
    "    formule = f'=INDEX({sheet}!$K:$K,MATCH(LARGE(IF(({sheet}!$C:$C=$G$1)*({sheet}!$D:$D=$C$1),{sheet}!$K:$K),{i}),IF(({sheet}!$C:$C=$G$1)*({sheet}!$D:$D=$C$1),{sheet}!$K:$K),0))'\n",
    "    cell.value = formule\n",
    "    TDB1_sheet.formula_attributes['B'+str(6+i)] = {'t' : 'array', 'ref': 'B'+str(6+i)+':B'+str(6+i)}\n",
    "    \n",
    "# Ventes US\n",
    "for i in range(1, 6):\n",
    "    cell = TDB1_sheet.cell(row=6+i, column=3)\n",
    "    formule = f'=INDEX({sheet}!$G:$G,MATCH(LARGE(IF(({sheet}!$C:$C=$G$1)*({sheet}!$D:$D=$C$1),{sheet}!$K:$K),{i}),IF(({sheet}!$C:$C=$G$1)*({sheet}!$D:$D=$C$1),{sheet}!$K:$K),0))'\n",
    "    cell.value = formule\n",
    "    TDB1_sheet.formula_attributes['C'+str(6+i)] = {'t' : 'array', 'ref': 'C'+str(6+i)+':C'+str(6+i)}\n",
    "# Ventes EU\n",
    "for i in range(1, 6):\n",
    "    cell = TDB1_sheet.cell(row=6+i, column=4)\n",
    "    formule = f'=INDEX({sheet}!$H:$H,MATCH(LARGE(IF(({sheet}!$C:$C=$G$1)*({sheet}!$D:$D=$C$1),{sheet}!$K:$K),{i}),IF(({sheet}!$C:$C=$G$1)*({sheet}!$D:$D=$C$1),{sheet}!$K:$K),0))'\n",
    "    cell.value = formule\n",
    "    TDB1_sheet.formula_attributes['D'+str(6+i)] = {'t' : 'array', 'ref': 'D'+str(6+i)+':D'+str(6+i)}\n",
    "# Sauvegarder le fichier \n",
    "wb.save('Dashboards.xlsx')\n",
    "wb.close()\n"
   ]
  },
  {
   "cell_type": "markdown",
   "id": "cbcc3f53",
   "metadata": {},
   "source": [
    "###  Second Tableau "
   ]
  },
  {
   "cell_type": "code",
   "execution_count": 20,
   "id": "7d565cdd",
   "metadata": {},
   "outputs": [],
   "source": [
    "wb = openpyxl.load_workbook('Dashboards.xlsx')\n",
    "\n",
    "# Sélectionner l'onglet\n",
    "TDB1_sheet = wb['TDB_1']\n",
    "\n",
    "\n",
    "#Titre dynamique\n",
    "title_cell = TDB1_sheet['F5']\n",
    "formula = f'=\"Les meilleurs \"&K1 &\" sur \" & G1 & \" en \" & C1'\n",
    "title_cell.value = formula\n",
    "title_cell.alignment  = Alignment(horizontal='center', vertical='center')\n",
    "title_cell.fill = PatternFill(start_color='8DB4E2', end_color='8DB4E2', fill_type='solid')\n",
    "## Fusionner les cellules \n",
    "TDB1_sheet.merge_cells(start_row=5, start_column=6, end_row=5, end_column=9)\n",
    "\n",
    "#Tableau2\n",
    "sheet = \"cleaned_data\"\n",
    "## Nom\n",
    "col_1_cell = TDB1_sheet['F6']\n",
    "col_1_cell.value = \"Nom\"\n",
    "col_1_cell.fill = PatternFill(start_color='C5D9F1', end_color='C5D9F1', fill_type='solid')\n",
    "\n",
    "## Ventes Totales\n",
    "col_2_cell = TDB1_sheet['G6']\n",
    "col_2_cell.value = 'Ventes Totales'\n",
    "col_2_cell.fill = PatternFill(start_color='C5D9F1', end_color='C5D9F1', fill_type='solid')\n",
    "\n",
    "## Ventes NA\n",
    "col_3_cell = TDB1_sheet['H6']\n",
    "col_3_cell.value = 'Ventes NA'\n",
    "col_3_cell.fill = PatternFill(start_color='C5D9F1', end_color='C5D9F1', fill_type='solid')\n",
    "\n",
    "## Ventes EU \n",
    "col_4_cell = TDB1_sheet['I6']\n",
    "col_4_cell.value = 'Ventes EU'\n",
    "col_4_cell.fill = PatternFill(start_color='C5D9F1', end_color='C5D9F1', fill_type='solid')\n",
    "\n",
    "\n",
    "\n",
    "# Nom\n",
    "for i in range(1, 6):\n",
    "    cell = TDB1_sheet.cell(row=6+i, column=6)\n",
    "    formule = f'=INDEX({sheet}!$B:$B,MATCH(LARGE(IF((cleaned_data!$C:$C=$G$1)*({sheet}!$D:$D=$C$1)*({sheet}!$E:$E=$K$1),{sheet}!$K:$K),{i}),IF(({sheet}!$C:$C=$G$1)*({sheet}!$D:$D=$C$1)*({sheet}!$E:$E=$K$1),{sheet}!$K:$K),0))'\n",
    "    cell.value = formule\n",
    "    TDB1_sheet.formula_attributes['F'+str(6+i)] = {'t' : 'array', 'ref': 'F'+str(6+i)+':F'+str(6+i)}\n",
    "    \n",
    "# Ventes tot\n",
    "for i in range(1, 6):\n",
    "    cell = TDB1_sheet.cell(row=6+i, column=7)\n",
    "    formule = f'=INDEX({sheet}!$K:$K,MATCH(LARGE(IF(({sheet}!$C:$C=$G$1)*({sheet}!$D:$D=$C$1)*({sheet}!$E:$E=$K$1),{sheet}!$K:$K),{i}),IF(({sheet}!$C:$C=$G$1)*({sheet}!$D:$D=$C$1)*({sheet}!$E:$E=$K$1),{sheet}!$K:$K),0))'\n",
    "    cell.value = formule\n",
    "    TDB1_sheet.formula_attributes['G'+str(6+i)] = {'t' : 'array', 'ref': 'G'+str(6+i)+':G'+str(6+i)}\n",
    "    \n",
    "# Ventes US\n",
    "for i in range(1, 6):\n",
    "    cell = TDB1_sheet.cell(row=6+i, column=8)\n",
    "    formule = f'=INDEX({sheet}!$G:$G,MATCH(LARGE(IF(({sheet}!$C:$C=$G$1)*({sheet}!$D:$D=$C$1)*({sheet}!$E:$E=$K$1),{sheet}!$K:$K),{i}),IF(({sheet}!$C:$C=$G$1)*({sheet}!$D:$D=$C$1)*({sheet}!$E:$E=$K$1),{sheet}!$K:$K),0))'\n",
    "    cell.value = formule\n",
    "    TDB1_sheet.formula_attributes['H'+str(6+i)] = {'t' : 'array', 'ref': 'H'+str(6+i)+':H'+str(6+i)}\n",
    "    \n",
    "# Ventes EU\n",
    "for i in range(1, 6):\n",
    "    cell = TDB1_sheet.cell(row=6+i, column=9)\n",
    "    formule = f'=INDEX({sheet}!$H:$H,MATCH(LARGE(IF(({sheet}!$C:$C=$G$1)*({sheet}!$D:$D=$C$1)*({sheet}!$E:$E=$K$1),{sheet}!$K:$K),{i}),IF(({sheet}!$C:$C=$G$1)*({sheet}!$D:$D=$C$1)*({sheet}!$E:$E=$K$1),{sheet}!$K:$K),0))'\n",
    "    cell.value = formule\n",
    "    TDB1_sheet.formula_attributes['I'+str(6+i)] = {'t' : 'array', 'ref': 'I'+str(6+i)+':I'+str(6+i)}\n",
    "    \n",
    "# Sauvegarder le fichier \n",
    "wb.save('Dashboards.xlsx')\n",
    "wb.close()\n",
    "\n"
   ]
  },
  {
   "cell_type": "markdown",
   "id": "a30a996d",
   "metadata": {},
   "source": [
    "### Troisième tableau"
   ]
  },
  {
   "cell_type": "code",
   "execution_count": 21,
   "id": "646fc555",
   "metadata": {},
   "outputs": [],
   "source": [
    "wb = openpyxl.load_workbook('Dashboards.xlsx')\n",
    "\n",
    "# Sélectionner l'onglet\n",
    "TDB1_sheet = wb['TDB_1']\n",
    "\n",
    "\n",
    "#Titre dynamique\n",
    "title_cell = TDB1_sheet['F15']\n",
    "formula = f'=\"Les meilleurs \"&K1 &\" sur \" & G3 & \" en \" & C1'\n",
    "title_cell.value = formula\n",
    "title_cell.alignment  = Alignment(horizontal='center', vertical='center')\n",
    "title_cell.fill = PatternFill(start_color='C4D79B', end_color='C4D79B', fill_type='solid')\n",
    "## Fusionner les cellules \n",
    "TDB1_sheet.merge_cells(start_row=15, start_column=6, end_row=15, end_column=9)\n",
    "\n",
    "#Tableau3\n",
    "sheet = \"cleaned_data\"\n",
    "\n",
    "## Nom\n",
    "col_1_cell = TDB1_sheet['F16']\n",
    "col_1_cell.value = \"Nom\"\n",
    "col_1_cell.fill = PatternFill(start_color='EBF1DE', end_color='EBF1DE', fill_type='solid')\n",
    "\n",
    "## Ventes Totales\n",
    "col_2_cell = TDB1_sheet['G16']\n",
    "col_2_cell.value = 'Ventes Totales'\n",
    "col_2_cell.fill = PatternFill(start_color='EBF1DE', end_color='EBF1DE', fill_type='solid')\n",
    "\n",
    "## Ventes NA\n",
    "col_3_cell = TDB1_sheet['H16']\n",
    "col_3_cell.value = 'Ventes NA'\n",
    "col_3_cell.fill = PatternFill(start_color='EBF1DE', end_color='EBF1DE', fill_type='solid')\n",
    "\n",
    "## Ventes EU \n",
    "col_4_cell = TDB1_sheet['I16']\n",
    "col_4_cell.value = 'Ventes EU'\n",
    "col_4_cell.fill = PatternFill(start_color='EBF1DE', end_color='EBF1DE', fill_type='solid')\n",
    "\n",
    "\n",
    "\n",
    "# Nom\n",
    "for i in range(1, 6):\n",
    "    cell = TDB1_sheet.cell(row=16+i, column=6)\n",
    "    formule = f'=INDEX({sheet}!$B:$B,MATCH(LARGE(IF(({sheet}!$C:$C=$G$3)*({sheet}!$D:$D=$C$1)*({sheet}!$E:$E=$K$1),{sheet}!$K:$K),{i}),IF(({sheet}!$C:$C=$G$3)*({sheet}!$D:$D=$C$1)*({sheet}!$E:$E=$K$1),{sheet}!$K:$K),0))'\n",
    "    cell.value = formule\n",
    "    TDB1_sheet.formula_attributes['F'+str(16+i)] = {'t' : 'array', 'ref': 'F'+str(16+i)+':F'+str(16+i)}\n",
    "    \n",
    "# Ventes tot\n",
    "for i in range(1, 6):\n",
    "    cell = TDB1_sheet.cell(row=16+i, column=7)\n",
    "    formule = f'=INDEX({sheet}!$K:$K,MATCH(LARGE(IF(({sheet}!$C:$C=$G$3)*({sheet}!$D:$D=$C$1)*({sheet}!$E:$E=$K$1),{sheet}!$K:$K),{i}),IF(({sheet}!$C:$C=$G$3)*({sheet}!$D:$D=$C$1)*({sheet}!$E:$E=$K$1),{sheet}!$K:$K),0))'\n",
    "    cell.value = formule\n",
    "    TDB1_sheet.formula_attributes['G'+str(16+i)] = {'t' : 'array', 'ref': 'G'+str(16+i)+':G'+str(16+i)}\n",
    "    \n",
    "# Ventes US\n",
    "for i in range(1, 6):\n",
    "    cell = TDB1_sheet.cell(row=16+i, column=8)\n",
    "    formule = f'=INDEX({sheet}!$G:$G,MATCH(LARGE(IF(({sheet}!$C:$C=$G$3)*({sheet}!$D:$D=$C$1)*({sheet}!$E:$E=$K$1),{sheet}!$K:$K),{i}),IF(({sheet}!$C:$C=$G$3)*({sheet}!$D:$D=$C$1)*({sheet}!$E:$E=$K$1),{sheet}!$K:$K),0))'\n",
    "    cell.value = formule\n",
    "    TDB1_sheet.formula_attributes['H'+str(16+i)] = {'t' : 'array', 'ref': 'H'+str(16+i)+':H'+str(16+i)}\n",
    "    \n",
    "# Ventes EU\n",
    "for i in range(1, 6):\n",
    "    cell = TDB1_sheet.cell(row=16+i, column=9)\n",
    "    formule = f'=INDEX({sheet}!$H:$H,MATCH(LARGE(IF(({sheet}!$C:$C=$G$3)*({sheet}!$D:$D=$C$1)*({sheet}!$E:$E=$K$1),{sheet}!$K:$K),{i}),IF(({sheet}!$C:$C=$G$3)*({sheet}!$D:$D=$C$1)*({sheet}!$E:$E=$K$1),{sheet}!$K:$K),0))'\n",
    "    cell.value = formule\n",
    "    TDB1_sheet.formula_attributes['I'+str(16+i)] = {'t' : 'array', 'ref': 'I'+str(16+i)+':I'+str(16+i)}\n",
    "    \n",
    "# Sauvegarder le fichier \n",
    "wb.save('Dashboards.xlsx')\n",
    "wb.close()"
   ]
  },
  {
   "cell_type": "markdown",
   "id": "e1635e99",
   "metadata": {},
   "source": [
    "### Quatrième tableau"
   ]
  },
  {
   "cell_type": "code",
   "execution_count": 22,
   "id": "44ee806b",
   "metadata": {},
   "outputs": [],
   "source": [
    "wb = openpyxl.load_workbook('Dashboards.xlsx')\n",
    "\n",
    "# Sélectionner l'onglet\n",
    "TDB1_sheet = wb['TDB_1']\n",
    "\n",
    "\n",
    "#Titre dynamique\n",
    "title_cell = TDB1_sheet['A15']\n",
    "formula = f'=\"Les meilleurs jeux sur \" & G3 & \" en \" & C1'\n",
    "title_cell.value = formula\n",
    "title_cell.alignment  = Alignment(horizontal='center', vertical='center')\n",
    "title_cell.fill = PatternFill(start_color='C4D79B', end_color='C4D79B', fill_type='solid')\n",
    "## Fusionner les cellules \n",
    "TDB1_sheet.merge_cells(start_row=15, start_column=1, end_row=15, end_column=4)\n",
    "\n",
    "#Tableau4\n",
    "sheet = \"cleaned_data\"\n",
    "\n",
    "## Nom\n",
    "col_1_cell = TDB1_sheet['A16']\n",
    "col_1_cell.value = \"Nom\"\n",
    "col_1_cell.fill = PatternFill(start_color='EBF1DE', end_color='EBF1DE', fill_type='solid')\n",
    "\n",
    "## Ventes Totales\n",
    "col_2_cell = TDB1_sheet['B16']\n",
    "col_2_cell.value = 'Ventes Totales'\n",
    "col_2_cell.fill = PatternFill(start_color='EBF1DE', end_color='EBF1DE', fill_type='solid')\n",
    "\n",
    "## Ventes NA\n",
    "col_3_cell = TDB1_sheet['C16']\n",
    "col_3_cell.value = 'Ventes NA'\n",
    "col_3_cell.fill = PatternFill(start_color='EBF1DE', end_color='EBF1DE', fill_type='solid')\n",
    "\n",
    "## Ventes EU \n",
    "col_4_cell = TDB1_sheet['D16']\n",
    "col_4_cell.value = 'Ventes EU'\n",
    "col_4_cell.fill = PatternFill(start_color='EBF1DE', end_color='EBF1DE', fill_type='solid')\n",
    "\n",
    "\n",
    "\n",
    "# Nom\n",
    "for i in range(1, 6):\n",
    "    cell = TDB1_sheet.cell(row=16+i, column=1)\n",
    "    formule = f'=INDEX({sheet}!$B:$B,MATCH(LARGE(IF(({sheet}!$C:$C=$G$3)*({sheet}!$D:$D=$C$1),{sheet}!$K:$K),{i}),IF(({sheet}!$C:$C=$G$3)*({sheet}!$D:$D=$C$1),{sheet}!$K:$K),0))'\n",
    "    cell.value = formule\n",
    "    TDB1_sheet.formula_attributes['A'+str(16+i)] = {'t' : 'array', 'ref': 'A'+str(16+i)+':A'+str(16+i)}\n",
    "    \n",
    "# Ventes tot\n",
    "for i in range(1, 6):\n",
    "    cell = TDB1_sheet.cell(row=16+i, column=2)\n",
    "    formule = f'=INDEX({sheet}!$K:$K,MATCH(LARGE(IF(({sheet}!$C:$C=$G$3)*({sheet}!$D:$D=$C$1),{sheet}!$K:$K),{i}),IF(({sheet}!$C:$C=$G$3)*({sheet}!$D:$D=$C$1),{sheet}!$K:$K),0))'\n",
    "    cell.value = formule\n",
    "    TDB1_sheet.formula_attributes['B'+str(16+i)] = {'t' : 'array', 'ref': 'B'+str(16+i)+':B'+str(16+i)}\n",
    "    \n",
    "# Ventes US\n",
    "for i in range(1, 6):\n",
    "    cell = TDB1_sheet.cell(row=16+i, column=3)\n",
    "    formule = f'=INDEX({sheet}!$G:$G,MATCH(LARGE(IF(({sheet}!$C:$C=$G$3)*({sheet}!$D:$D=$C$1),{sheet}!$K:$K),{i}),IF(({sheet}!$C:$C=$G$3)*({sheet}!$D:$D=$C$1),{sheet}!$K:$K),0))'\n",
    "    cell.value = formule\n",
    "    TDB1_sheet.formula_attributes['C'+str(16+i)] = {'t' : 'array', 'ref': 'C'+str(16+i)+':C'+str(16+i)}\n",
    "    \n",
    "# Ventes EU\n",
    "for i in range(1, 6):\n",
    "    cell = TDB1_sheet.cell(row=16+i, column=4)\n",
    "    formule = f'=INDEX({sheet}!$H:$H,MATCH(LARGE(IF(({sheet}!$C:$C=$G$3)*({sheet}!$D:$D=$C$1),{sheet}!$K:$K),{i}),IF(({sheet}!$C:$C=$G$3)*({sheet}!$D:$D=$C$1),{sheet}!$K:$K),0))'\n",
    "    cell.value = formule\n",
    "    TDB1_sheet.formula_attributes['D'+str(16+i)] = {'t' : 'array', 'ref': 'D'+str(16+i)+':D'+str(16+i)}\n",
    "    \n",
    "# Sauvegarder le fichier \n",
    "wb.save('Dashboards.xlsx')\n",
    "wb.close()\n"
   ]
  },
  {
   "cell_type": "markdown",
   "id": "4f6cfe8c",
   "metadata": {},
   "source": [
    "### Tableaux Indicateurs filtre 1"
   ]
  },
  {
   "cell_type": "markdown",
   "id": "4e25a0f6",
   "metadata": {},
   "source": [
    "Les valeurs de chaque cellule sont des formules Excel qui comptent ou additionnent les données du fichier \"cleaned_data.xlsx\" en fonction des critères spécifiés dans les arguments de la fonction COUNTIFS() ou SUMIFS(). De cette façon, je crée des indicateurs génériques pour l'utilisateur final. "
   ]
  },
  {
   "cell_type": "code",
   "execution_count": 23,
   "id": "6af64139",
   "metadata": {},
   "outputs": [],
   "source": [
    "# Ouvrir le fichier\n",
    "wb = openpyxl.load_workbook('Dashboards.xlsx')\n",
    "\n",
    "# Sélectionner l'onglet\n",
    "TDB1_sheet = wb['TDB_1']\n",
    "\n",
    "\n",
    "#cellules gauche haut\n",
    "cell_title_1 = TDB1_sheet['L5']\n",
    "cell_title_1.value  = f'=\"Nombre de jeux sortis sur \" &G1 &\" en \" &C1'\n",
    "TDB1_sheet.merge_cells(start_row=5, start_column=12, end_row=6, end_column=12)\n",
    "cell_title_1.alignment  = Alignment(horizontal='center', vertical='center')\n",
    "cell_title_1.fill = PatternFill(start_color='8DB4E2', end_color='8DB4E2', fill_type='solid')\n",
    "\n",
    "cell_value_1 = TDB1_sheet['L7']\n",
    "cell_value_1.value = f'=COUNTIFS(cleaned_data!$D:$D,$C$1,cleaned_data!$C:$C,$G$1)'\n",
    "TDB1_sheet.merge_cells(start_row=7, start_column=12, end_row=8, end_column=12)\n",
    "cell_value_1.alignment  = Alignment(horizontal='center', vertical='center')\n",
    "cell_value_1.fill = PatternFill(start_color='C5D9F1', end_color='C5D9F1', fill_type='solid')\n",
    "cell_value_1.font = Font(size=14)\n",
    "\n",
    "#cellules droite haut\n",
    "cell_title_2 = TDB1_sheet['M5']\n",
    "cell_title_2.value  = f'=\"Nombre de jeux de type \" &K1 &\" sortis sur \" &G1 &\" en \" &C1'\n",
    "TDB1_sheet.merge_cells(start_row=5, start_column=13, end_row=6, end_column=13)\n",
    "cell_title_2.alignment  = Alignment(horizontal='center', vertical='center')\n",
    "cell_title_2.fill = PatternFill(start_color='8DB4E2', end_color='8DB4E2', fill_type='solid')\n",
    "                      \n",
    "cell_value_2 = TDB1_sheet['M7']\n",
    "cell_value_2.value = f'=COUNTIFS(cleaned_data!$D:$D,$C$1, cleaned_data!$C:$C,$G$1,cleaned_data!$E:$E,$K$1)'\n",
    "TDB1_sheet.merge_cells(start_row=7, start_column=13, end_row=8, end_column=13)\n",
    "cell_value_2.alignment  = Alignment(horizontal='center', vertical='center')\n",
    "cell_value_2.fill = PatternFill(start_color='C5D9F1', end_color='C5D9F1', fill_type='solid')\n",
    "cell_value_2.font = Font(size=14)\n",
    "\n",
    "#cellules gauche bas\n",
    "cell_title_3 = TDB1_sheet['L9']\n",
    "cell_title_3.value = f'=\"Nombre de jeux vendus sur \" &G1 &\" en \" &C1'\n",
    "TDB1_sheet.merge_cells(start_row=9, start_column=12, end_row=10, end_column=12)\n",
    "cell_title_3.alignment  = Alignment(horizontal='center', vertical='center')\n",
    "cell_title_3.fill = PatternFill(start_color='8DB4E2', end_color='8DB4E2', fill_type='solid')\n",
    "\n",
    "cell_value_3 = TDB1_sheet['L11']\n",
    "cell_value_3.value = f'=SUMIFS(cleaned_data!$H:$H, cleaned_data!$D:$D, $C$1, cleaned_data!$C:$C, $G$1) & \"M\"'\n",
    "TDB1_sheet.merge_cells(start_row=11, start_column=12, end_row=12, end_column=12)\n",
    "cell_value_3.alignment  = Alignment(horizontal='center', vertical='center')\n",
    "cell_value_3.fill = PatternFill(start_color='C5D9F1', end_color='C5D9F1', fill_type='solid')\n",
    "cell_value_3.font = Font(size=14)\n",
    "\n",
    "#cellules droite bas\n",
    "cell_title_4 = TDB1_sheet['M9']\n",
    "cell_title_4.value = f'=\"Nombre de jeux de type \" &K1 &\" vendus sur \" &G1 &\" en \" &C1'\n",
    "TDB1_sheet.merge_cells(start_row=9, start_column=13, end_row=10, end_column=13)\n",
    "cell_title_4.alignment  = Alignment(horizontal='center', vertical='center')\n",
    "cell_title_4.fill = PatternFill(start_color='8DB4E2', end_color='8DB4E2', fill_type='solid')\n",
    "\n",
    "cell_value_4 = TDB1_sheet['M11']\n",
    "cell_value_4.value = f'=SUMIFS(cleaned_data!$H:$H, cleaned_data!$D:$D, $C$1, cleaned_data!$C:$C, $G$1, cleaned_data!$E:$E, $K$1) & \"M\"' \n",
    "TDB1_sheet.merge_cells(start_row=11, start_column=13, end_row=12, end_column=13)\n",
    "cell_value_4.alignment  = Alignment(horizontal='center', vertical='center')\n",
    "cell_value_4.fill = PatternFill(start_color='C5D9F1', end_color='C5D9F1', fill_type='solid')\n",
    "cell_value_4.font = Font(size=14)\n",
    "\n",
    "wb.save('Dashboards.xlsx')\n",
    "wb.close()\n"
   ]
  },
  {
   "cell_type": "markdown",
   "id": "d35ebcfe",
   "metadata": {},
   "source": [
    "### Tableaux Indicateurs filtre 2"
   ]
  },
  {
   "cell_type": "markdown",
   "id": "f111b2c0",
   "metadata": {},
   "source": [
    "C'est un copié collé du tableau précédent, je pense juste à modifier les paramètres (G1 -> G3) et je fais +10 aux numéros de ligne pour qu'il soit à la bonne place."
   ]
  },
  {
   "cell_type": "code",
   "execution_count": 24,
   "id": "ec7a6634",
   "metadata": {},
   "outputs": [],
   "source": [
    "# Ouvrir le fichier\n",
    "wb = openpyxl.load_workbook('Dashboards.xlsx')\n",
    "\n",
    "# Sélectionner l'onglet\n",
    "TDB1_sheet = wb['TDB_1']\n",
    "\n",
    "\n",
    "#cellules gauche haut\n",
    "cell_title_1 = TDB1_sheet['L15']\n",
    "cell_title_1.value  = f'=\"Nombre de jeux sortis sur \" &G3 &\" en \" &C1'\n",
    "TDB1_sheet.merge_cells(start_row=15, start_column=12, end_row=16, end_column=12)\n",
    "cell_title_1.alignment  = Alignment(horizontal='center', vertical='center')\n",
    "cell_title_1.fill = PatternFill(start_color='C4D79B', end_color='C4D79B', fill_type='solid')\n",
    "\n",
    "cell_value_1 = TDB1_sheet['L17']\n",
    "cell_value_1.value = f'=COUNTIFS(cleaned_data!$D:$D,$C$1,cleaned_data!$C:$C,$G$3)'\n",
    "TDB1_sheet.merge_cells(start_row=17, start_column=12, end_row=18, end_column=12)\n",
    "cell_value_1.alignment  = Alignment(horizontal='center', vertical='center')\n",
    "cell_value_1.fill = PatternFill(start_color='EBF1DE', end_color='EBF1DE', fill_type='solid')\n",
    "cell_value_1.font = Font(size=14)\n",
    "\n",
    "#cellules droite haut\n",
    "cell_title_2 = TDB1_sheet['M15']\n",
    "cell_title_2.value  = f'=\"Nombre de jeux de type \" &K1 &\" sortis sur \" &G3 &\" en \" &C1'\n",
    "TDB1_sheet.merge_cells(start_row=15, start_column=13, end_row=16, end_column=13)\n",
    "cell_title_2.alignment  = Alignment(horizontal='center', vertical='center')\n",
    "cell_title_2.fill = PatternFill(start_color='C4D79B', end_color='C4D79B', fill_type='solid')\n",
    "                      \n",
    "cell_value_2 = TDB1_sheet['M17']\n",
    "cell_value_2.value = f'=COUNTIFS(cleaned_data!$D:$D,$C$1, cleaned_data!$C:$C,$G$3,cleaned_data!$E:$E,$K$1)'\n",
    "TDB1_sheet.merge_cells(start_row=17, start_column=13, end_row=18, end_column=13)\n",
    "cell_value_2.alignment  = Alignment(horizontal='center', vertical='center')\n",
    "cell_value_2.fill = PatternFill(start_color='EBF1DE', end_color='EBF1DE', fill_type='solid')\n",
    "cell_value_2.font = Font(size=14)\n",
    "\n",
    "#cellules gauche bas\n",
    "cell_title_3 = TDB1_sheet['L19']\n",
    "cell_title_3.value = f'=\"Nombre de jeux vendus sur \" &G3 &\" en \" &C1'\n",
    "TDB1_sheet.merge_cells(start_row=19, start_column=12, end_row=20, end_column=12)\n",
    "cell_title_3.alignment  = Alignment(horizontal='center', vertical='center')\n",
    "cell_title_3.fill = PatternFill(start_color='C4D79B', end_color='C4D79B', fill_type='solid')\n",
    "\n",
    "cell_value_3 = TDB1_sheet['L21']\n",
    "cell_value_3.value = f'=SUMIFS(cleaned_data!$H:$H, cleaned_data!$D:$D, $C$1, cleaned_data!$C:$C, $G$3) & \"M\"'\n",
    "TDB1_sheet.merge_cells(start_row=21, start_column=12, end_row=22, end_column=12)\n",
    "cell_value_3.alignment  = Alignment(horizontal='center', vertical='center')\n",
    "cell_value_3.fill = PatternFill(start_color='EBF1DE', end_color='EBF1DE', fill_type='solid')\n",
    "cell_value_3.font = Font(size=14)\n",
    "\n",
    "#cellules droite bas\n",
    "cell_title_4 = TDB1_sheet['M19']\n",
    "cell_title_4.value = f'=\"Nombre de jeux de type \" &K1 &\" vendus sur \" &G3 &\" en \" &C1'\n",
    "TDB1_sheet.merge_cells(start_row=19, start_column=13, end_row=20, end_column=13)\n",
    "cell_title_4.alignment  = Alignment(horizontal='center', vertical='center')\n",
    "cell_title_4.fill = PatternFill(start_color='C4D79B', end_color='C4D79B', fill_type='solid')\n",
    "\n",
    "cell_value_4 = TDB1_sheet['M21']\n",
    "cell_value_4.value = f'=SUMIFS(cleaned_data!$H:$H, cleaned_data!$D:$D, $C$1, cleaned_data!$C:$C, $G$3, cleaned_data!$E:$E, $K$1) & \"M\"' \n",
    "TDB1_sheet.merge_cells(start_row=21, start_column=13, end_row=22, end_column=13)\n",
    "cell_value_4.alignment  = Alignment(horizontal='center', vertical='center')\n",
    "cell_value_4.fill = PatternFill(start_color='EBF1DE', end_color='EBF1DE', fill_type='solid')\n",
    "cell_value_4.font = Font(size=14)\n",
    "\n",
    "wb.save('Dashboards.xlsx')\n",
    "wb.close()"
   ]
  },
  {
   "cell_type": "markdown",
   "id": "c5f4b169",
   "metadata": {},
   "source": [
    "### Ajuster la taille des colonnes "
   ]
  },
  {
   "cell_type": "code",
   "execution_count": 25,
   "id": "d566b7b2",
   "metadata": {},
   "outputs": [],
   "source": [
    "from openpyxl.utils import get_column_letter\n",
    "\n",
    "# Ouvrir le classeur Excel\n",
    "wb = openpyxl.load_workbook('dashboards.xlsx')\n",
    "\n",
    "# Sélectionner la feuille de calcul\n",
    "sheet = wb['TDB_1']\n",
    "\n",
    "\n",
    "for col in range(1, 10):\n",
    "    column_letter = get_column_letter(col)\n",
    "    for row in range(5, 22):\n",
    "        cell = sheet[f\"{column_letter}{row}\"]\n",
    "        if row == 5 or row == 15:\n",
    "            cell.alignment = Alignment(horizontal = 'center',vertical = 'center',wrap_text = False)\n",
    "        else : \n",
    "            cell.alignment = Alignment(horizontal='left', vertical='center', wrap_text=False)\n",
    "    sheet.column_dimensions[column_letter].auto_size = True\n",
    "    \n",
    "for col in range(13, 14):\n",
    "    column_letter = get_column_letter(col)\n",
    "    sheet.column_dimensions[column_letter].auto_size = True\n",
    "\n",
    "# Enregistrer les modifications et fermer le classeur\n",
    "wb.save('Dashboards.xlsx')\n",
    "wb.close()"
   ]
  },
  {
   "cell_type": "markdown",
   "id": "07c0ce32",
   "metadata": {},
   "source": [
    "la méthode auto_size ne semble pas très bien fonctionné sur openpyxl, il y a plein de postes d'utilisateurs avec le même problème sur stackoverflow. Il faut soit modifier la taille de façon expérimentale par du code, soit laisser l'utilisateur double cliquer pour avoir la bonne taille. \n",
    "\n",
    "https://stackoverflow.com/questions/71139718/openpyxl-autosize-column-size\n",
    "https://stackoverflow.com/questions/39529662/python-automatically-adjust-width-of-an-excel-files-columns"
   ]
  },
  {
   "cell_type": "markdown",
   "id": "f2d06d78",
   "metadata": {},
   "source": [
    "### Graphiques TOP 5 des ventes de jeux"
   ]
  },
  {
   "cell_type": "markdown",
   "id": "4369e408",
   "metadata": {},
   "source": [
    "La cellule suivante permet de créer les deux graphiques des TOP5. J'utilise des barcharts classiques, ils permettent de visualiser l'information rapidement et simplement. Les données des graphiques correspondent aux tableaux calculés précédemment, ils sont donc également dynamiques et change en fonction des paramètres saisis par l'utilisateur dans le fichier Excel. "
   ]
  },
  {
   "cell_type": "code",
   "execution_count": 37,
   "id": "ed740779",
   "metadata": {},
   "outputs": [],
   "source": [
    "from openpyxl.chart import BarChart, Reference, Series\n",
    "wb = openpyxl.load_workbook('Dashboards.xlsx')\n",
    "\n",
    "# Sélectionner l'onglet\n",
    "TDB1_sheet = wb['TDB_1']\n",
    "\n",
    "## Premier graph\n",
    "\n",
    "chart_filter_1 = BarChart()\n",
    "chart_filter_1.type = \"bar\"\n",
    "chart_filter_1.style = 11\n",
    "chart_filter_1.title = \"Top 5 des jeux vendus filtre 1\"\n",
    "chart_filter_1.y_axis.title = 'Nb jeux vendus (en millions)'\n",
    "\n",
    "data = Reference(TDB1_sheet, min_col=2, min_row=6, max_row=11, max_col=4)\n",
    "\n",
    "cats = Reference(TDB1_sheet, min_col=1, min_row=7, max_row=11)\n",
    "\n",
    "\n",
    "chart_filter_1.add_data(data, titles_from_data=True)\n",
    "#Légende\n",
    "chart_filter_1.set_categories(cats)\n",
    "\n",
    "\n",
    "#Ajouter le graph\n",
    "TDB1_sheet.add_chart(chart_filter_1, \"A23\")\n",
    "\n",
    "\n",
    "## Deuxième graph\n",
    "\n",
    "chart_filter_2 = BarChart()\n",
    "chart_filter_2.type = \"bar\"\n",
    "chart_filter_2.style = 13\n",
    "chart_filter_2.title = \"Top 5 des jeux vendus filtre 2\"\n",
    "chart_filter_2.y_axis.title = 'Nb jeux vendus (en millions)'\n",
    "\n",
    "data = Reference(TDB1_sheet, min_col=2, min_row=16, max_row=21, max_col=4)\n",
    "\n",
    "cats = Reference(TDB1_sheet, min_col=1, min_row=17, max_row=21)\n",
    "\n",
    "\n",
    "chart_filter_2.add_data(data, titles_from_data=True)\n",
    "#Légende\n",
    "chart_filter_2.set_categories(cats)\n",
    "\n",
    "\n",
    "#Ajouter le graph\n",
    "TDB1_sheet.add_chart(chart_filter_2, \"F23\")\n",
    "\n",
    "\n",
    "\n",
    "\n",
    "\n",
    "wb.save('Dashboards.xlsx')\n",
    "wb.close()"
   ]
  },
  {
   "cell_type": "markdown",
   "id": "9fc65b01",
   "metadata": {},
   "source": [
    "Je rencontre un problème avec les styles des graphiques, ils ne sont pas toujours pris en compte à l'ouverture du fichier Excel. Cela se produit souvent lorsque j'insère d'autres graphiques par la suite, je n'ai pas d'explications et je n'en ai pas trouvé. "
   ]
  },
  {
   "cell_type": "markdown",
   "id": "ff0cb2ba",
   "metadata": {},
   "source": [
    "# Deuxième tableau de bord"
   ]
  },
  {
   "cell_type": "markdown",
   "id": "5c9b07df",
   "metadata": {},
   "source": [
    "Ce tableau de bord fera office d'exploration de données, il sera composé uniquement de graphique car je vais créer une feuille de calcul séparé pour alimenter ce dernier. (calc_sheet)\n",
    "\n",
    "Je souhaite également afficher des informations sur les éditeurs de jeux vidéos mais ils sont trop nombreux, je vais donc choisir manuellement les plus intéressants. (à mon sens)\n",
    "\n",
    "Je vais utiliser les formules NB.SI.ENS() et SOMME.SI.ENS() pour calculer mes données. "
   ]
  },
  {
   "cell_type": "code",
   "execution_count": 27,
   "id": "0ae4303c",
   "metadata": {},
   "outputs": [],
   "source": [
    "wb = openpyxl.load_workbook('Dashboards.xlsx')\n",
    "\n",
    "# Ajouter un onglet à la feuille de calcul si elle n'existe pas \n",
    "if 'calc_sheet' not in wb.sheetnames:\n",
    "    # Créer la feuille\n",
    "       calc_sheet = wb.create_sheet('calc_sheet')\n",
    "else :\n",
    "    calc_sheet = wb['calc_sheet']\n",
    "    \n",
    "####### Ajout des années ###############   \n",
    "year_cell = calc_sheet['A1']\n",
    "year_cell.value = f'Année'\n",
    "\n",
    "for i in range(2, 40):\n",
    "    cell = calc_sheet.cell(row=i, column=1)\n",
    "    formule = f'=Ressources!B' + str(i)\n",
    "    cell.value = formule\n",
    "\n",
    "\n",
    "####### Ventes par année ############### \n",
    "tot_sales_cell_per_year = calc_sheet['B1']\n",
    "tot_sales_cell_per_year.value = f'Ventes'\n",
    "\n",
    "for i in range(2, 40):\n",
    "    cell = calc_sheet.cell(row=i, column=2)\n",
    "    formule = f'=SUMIFS(cleaned_data!K:K,cleaned_data!D:D,A'+str(i)+')'\n",
    "    cell.value = formule\n",
    "\n",
    "####### Nb jeux sortis par année ############### \n",
    "nb_jeux_per_year = calc_sheet['C1']\n",
    "nb_jeux_per_year.value ='Nombre de jeux'\n",
    "\n",
    "for i in range(2,40):\n",
    "    cell = calc_sheet.cell(row=i, column=3)\n",
    "    formule = f'=COUNTIFS(cleaned_data!B:B,\"<>\",cleaned_data!D:D,A'+str(i)+')'\n",
    "    cell.value = formule\n",
    "\n",
    "    \n",
    "####### Ajout des genres ###############  \n",
    "for i in range(1,14):\n",
    "    cell = calc_sheet.cell(row=i, column=4)\n",
    "    formule = f'=Ressources!C'+str(i)\n",
    "    cell.value = formule\n",
    "    \n",
    "####### Nb jeux par genre ###############   \n",
    "nb_jeux_per_genre = calc_sheet['E1']\n",
    "nb_jeux_per_genre.value = 'Nombre de jeux'\n",
    "\n",
    "for i in range(2,14):\n",
    "    cell = calc_sheet.cell(row=i,column=5)\n",
    "    formule = f'=COUNTIFS(cleaned_data!B:B,\"<>\",cleaned_data!E:E,D'+str(i)+')'\n",
    "    cell.value = formule \n",
    "\n",
    "####### Ventes par genre ############### \n",
    "tot_sales_per_genre = calc_sheet['F1']\n",
    "tot_sales_per_genre.value = 'Total ventes'\n",
    "\n",
    "for i in range(2,14):\n",
    "    cell = calc_sheet.cell(row=i,column=6)\n",
    "    formule = f'=SUMIFS(cleaned_data!K:K,cleaned_data!E:E,D'+str(i)+')'\n",
    "    cell.value = formule\n",
    "\n",
    "editeur_title = calc_sheet['G1']\n",
    "editeur_title.value = 'Editeurs'\n",
    "\n",
    "####### Ajout des editeurs ############### \n",
    "values = ['Activision', 'Nintendo', 'Take-Two Interactive', 'Ubisoft', 'Square Enix', 'Electronic Arts']\n",
    "\n",
    "for i, value in enumerate(values):\n",
    "    cell = calc_sheet.cell(row=i+2, column=7)\n",
    "    cell.value = value\n",
    "    \n",
    "####### Nb jeux sortis par édieurs ###############    \n",
    "nb_jeux_per_publisher = calc_sheet['H1']\n",
    "nb_jeux_per_publisher.value = 'Nombre de jeux'\n",
    "\n",
    "for i in range(2,8):\n",
    "    cell = calc_sheet.cell(row=i,column=8)\n",
    "    formule = f'=COUNTIFS(cleaned_data!F:F,G'+str(i)+',cleaned_data!B:B,\"<>\")'\n",
    "    cell.value = formule\n",
    "\n",
    "####### Ventes par édieurs ###############\n",
    "tot_sales_per_publisher = calc_sheet['I1']\n",
    "tot_sales_per_publisher.value = 'Total ventes'\n",
    "\n",
    "for i in range(2,8):\n",
    "    cell = calc_sheet.cell(row=i,column=9)\n",
    "    formule = f'=SUMIFS(cleaned_data!K:K,cleaned_data!F:F,G'+str(i)+')'\n",
    "    cell.value = formule\n",
    "\n",
    "wb.save('Dashboards.xlsx')\n",
    "wb.close()"
   ]
  },
  {
   "cell_type": "markdown",
   "id": "d91fc71d",
   "metadata": {},
   "source": [
    "## Ajout des graphiques dans TDB_2 "
   ]
  },
  {
   "cell_type": "markdown",
   "id": "70e19ff8",
   "metadata": {},
   "source": [
    "Je vais créer un objet \"LineChart\" qui représente un graphique de type \"ligne\". Le graphique aura un titre \"Evolution des ventes de jeux par année\" et une légende pour l'axe Y \"Nb jeux vendus (en millions)\".\n",
    "\n",
    "Le graphique sera créé à partir des données situées dans l'onglet \"calc_sheet\" du fichier Excel. Les données pour l'axe X (l'année) seront extraites de la colonne B (min_col=2, max_col=2) et les données pour l'axe Y (le nombre de jeux vendus) seront extraites de la colonne A (min_col=1).\n",
    "\n",
    "Ensuite, le code ajoute les données au graphique à l'aide de la méthode \"add_data\". Il précise également que les titres des données se trouvent dans les cellules du tableau.\n",
    "\n",
    "Finalement, le graphique est ajouté à l'onglet \"TDB_2\" à la cellule A16 à l'aide de la méthode \"add_chart\".\n",
    "\n",
    "Cette méthode sera ensuite dupliqué aux autres graphiques. "
   ]
  },
  {
   "cell_type": "code",
   "execution_count": 28,
   "id": "960a8704",
   "metadata": {},
   "outputs": [],
   "source": [
    "from openpyxl.chart import LineChart,PieChart\n",
    "wb = openpyxl.load_workbook('Dashboards.xlsx')\n",
    "\n",
    "# Ajouter un onglet à la feuille de calcul si elle n'existe pas \n",
    "if 'TDB_2' not in wb.sheetnames:\n",
    "    # Créer la feuille\n",
    "       TDB2_sheet = wb.create_sheet('TDB_2')\n",
    "else :\n",
    "    TDB2_sheet = wb['TDB_2']\n",
    "    \n",
    "calc_sheet = wb['calc_sheet']\n",
    "TDB2_sheet.sheet_view.showGridLines = False \n",
    "\n",
    "## Premier graph Evolution du nombre de ventes de jeux par années \n",
    "\n",
    "chart1 = LineChart()\n",
    "chart1.type = \"Line Chart\"\n",
    "chart1.style = 11\n",
    "chart1.title = \"Evolution des ventes de jeux par année\"\n",
    "chart1.y_axis.title = 'Nb jeux vendus (en millions)'\n",
    "\n",
    "#Les x\n",
    "data = Reference(calc_sheet, min_col=2, min_row=1, max_row=39, max_col=2)\n",
    "#Les y\n",
    "cats = Reference(calc_sheet, min_col=1, min_row=2, max_row=39)\n",
    "\n",
    "#Ajouter les données \n",
    "chart1.add_data(data, titles_from_data=True)\n",
    "\n",
    "#Légende\n",
    "chart1.set_categories(cats)\n",
    "\n",
    "\n",
    "#Ajouter le graph\n",
    "TDB2_sheet.add_chart(chart1, \"A16\")\n",
    "wb.save('Dashboards.xlsx')\n",
    "wb.close()"
   ]
  },
  {
   "cell_type": "markdown",
   "id": "eff5be51",
   "metadata": {},
   "source": [
    "Je vais créer dans la prochaine cellule tous les graphiques restant, pour gagner un peu de place et de temps le code sera peut-être un peu moins digeste (déjà qu'il ne l'est pas trop)"
   ]
  },
  {
   "cell_type": "code",
   "execution_count": 29,
   "id": "74183795",
   "metadata": {},
   "outputs": [],
   "source": [
    "wb = openpyxl.load_workbook('Dashboards.xlsx')\n",
    "\n",
    "#sheets\n",
    "TDB2_sheet = wb['TDB_2']\n",
    "calc_sheet = wb['calc_sheet']\n",
    "\n",
    "# ------------------------------ #\n",
    "##  Graph2 \n",
    "chart2 = LineChart()\n",
    "chart2.type = \"Line Chart\"\n",
    "chart2.style = 11\n",
    "chart2.title = \"Evolution du nombre de jeux sortis par année\"\n",
    "chart2.y_axis.title = 'Nb jeux sortis'\n",
    "data = Reference(calc_sheet, min_col=3, min_row=1, max_row=39, max_col=3)\n",
    "cats = Reference(calc_sheet, min_col=1, min_row=2, max_row=39)\n",
    "chart2.add_data(data, titles_from_data=True)\n",
    "\n",
    "\n",
    "#Légende\n",
    "chart2.set_categories(cats)\n",
    "\n",
    "\n",
    "#Ajouter le graph\n",
    "TDB2_sheet.add_chart(chart2, \"A1\")\n",
    "\n",
    "\n",
    "# ------------------------------ #\n",
    "## Graph3 \n",
    "chart3 = BarChart()\n",
    "chart3.type = \"bar\"\n",
    "chart3.style = 11\n",
    "chart3.title = \"Nombre de jeux par genre\"\n",
    "chart3.y_axis.title = 'Nb jeux sortis'\n",
    "data = Reference(calc_sheet, min_col=5, min_row=1, max_row=13, max_col=5)\n",
    "cats = Reference(calc_sheet, min_col=4, min_row=2, max_row=13)\n",
    "chart3.add_data(data, titles_from_data=True)\n",
    "\n",
    "\n",
    "#Légende\n",
    "chart3.set_categories(cats)\n",
    "\n",
    "\n",
    "#Ajouter le graph\n",
    "TDB2_sheet.add_chart(chart3, \"J1\")\n",
    "\n",
    "# ------------------------------ #\n",
    "## Graph4\n",
    "chart4 = BarChart()\n",
    "chart4.type = \"bar\"\n",
    "chart4.style = 11\n",
    "chart4.title = \"Ventes tot. par genre\"\n",
    "chart4.y_axis.title = 'Nb jeux vendus (en millions)'\n",
    "data = Reference(calc_sheet, min_col=6, min_row=1, max_row=13, max_col=6)\n",
    "cats = Reference(calc_sheet, min_col=4, min_row=2, max_row=13)\n",
    "chart4.add_data(data, titles_from_data=True)\n",
    "\n",
    "\n",
    "#Légende\n",
    "chart4.set_categories(cats)\n",
    "\n",
    "\n",
    "#Ajouter le graph\n",
    "TDB2_sheet.add_chart(chart4, \"J16\")\n",
    "\n",
    "\n",
    "# ------------------------------ #\n",
    "## Graph5\n",
    "chart5 = PieChart()\n",
    "#chart5.type = \"bar\"\n",
    "#chart5.style = 11\n",
    "chart5.title = \"Nombre de jeux sortis par éditeur\"\n",
    "#chart5.y_axis.title = 'Nb jeux vendus (en millions)'\n",
    "data = Reference(calc_sheet, min_col=8, min_row=1, max_row=7, max_col=8)\n",
    "cats = Reference(calc_sheet, min_col=7, min_row=2, max_row=7)\n",
    "chart5.add_data(data, titles_from_data=True)\n",
    "\n",
    "# Ajouter des étiquettes de données\n",
    "chart5.dataLabels = DataLabelList()\n",
    "chart5.dataLabels.showPercent = True\n",
    "chart5.dataLabels.showVal = False\n",
    "\n",
    "#Légende\n",
    "chart5.set_categories(cats)\n",
    "\n",
    "\n",
    "#Ajouter le graph\n",
    "TDB2_sheet.add_chart(chart5, \"S1\")\n",
    "\n",
    "# ------------------------------ #\n",
    "## Graph6\n",
    "chart6 = PieChart()\n",
    "#chart6.type = \"Line Chart\"\n",
    "chart6.title = \"Nombre de jeux vendus par éditeur\"\n",
    "#chart6.y_axis.title = 'Nb jeux vendus (en millions)'\n",
    "data = Reference(calc_sheet, min_col=9, min_row=1, max_row=7, max_col=9)\n",
    "cats = Reference(calc_sheet, min_col=7, min_row=2, max_row=7)\n",
    "chart6.add_data(data, titles_from_data=True)\n",
    "\n",
    "# Ajouter des étiquettes de données\n",
    "chart6.dataLabels = DataLabelList()\n",
    "chart6.dataLabels.showPercent = True\n",
    "chart6.dataLabels.showVal = False\n",
    "\n",
    "\n",
    "#Légende\n",
    "chart6.set_categories(cats)\n",
    "\n",
    "\n",
    "#Ajouter le graph\n",
    "TDB2_sheet.add_chart(chart6, \"S16\")\n",
    "\n",
    "\n",
    "wb.save('Dashboards.xlsx')\n",
    "wb.close()"
   ]
  },
  {
   "cell_type": "markdown",
   "id": "055e8dad",
   "metadata": {},
   "source": [
    "J'utilise un PieChart pour les graphiques 5 et 6, l'idée est de visualiser la \"part\" des acteurs dans le marché. De cette façon, on peut éventuellement regarder les proportions entre jeux sortis/jeux vendus."
   ]
  },
  {
   "cell_type": "markdown",
   "id": "e46c3266",
   "metadata": {},
   "source": [
    "### Difficultés rencontrées "
   ]
  },
  {
   "cell_type": "markdown",
   "id": "b874269e",
   "metadata": {},
   "source": [
    " J'ai rencontré de grandes difficulté à faire fonctionner ce code, je ne savais pas pourquoi mais parfois des \"@\" se glisse devant le nom de la feuille \"cleaned_data\"."
   ]
  },
  {
   "cell_type": "code",
   "execution_count": 30,
   "id": "f1e2b89c",
   "metadata": {
    "scrolled": true
   },
   "outputs": [
    {
     "data": {
      "image/png": "[encoded data removed]",
      "text/plain": [
       "<IPython.core.display.Image object>"
      ]
     },
     "execution_count": 30,
     "metadata": {},
     "output_type": "execute_result"
    }
   ],
   "source": [
    "Image(filename='./img/bug_at.png')"
   ]
  },
  {
   "cell_type": "markdown",
   "id": "9df2d9f0",
   "metadata": {},
   "source": [
    "Quand la formule fonctionne il rajoute également des \"{}\" en début et fin de formule qui disparaissent une fois qu'on clique dans la formule. De ce que j'ai pu lire sur Internet, ces accolades montrent que la formule fonctionne comme il faut avec openpyxl et qu'il comprend les références à cleaned_data. Cependant il arrive parfois qu'il ne comprenne pas et rajoute ces fameux \"@\". Le seul moyen que j'ai trouvé pour limiter ce bug, c'est d'ouvrir le fichier, supprimer les \"@\" à la main puis relancer le code. Preuve ci dessous. "
   ]
  },
  {
   "cell_type": "code",
   "execution_count": 31,
   "id": "6918a980",
   "metadata": {
    "scrolled": true
   },
   "outputs": [
    {
     "data": {
      "image/png": "[encoded data removed]",
      "text/plain": [
       "<IPython.core.display.Image object>"
      ]
     },
     "execution_count": 31,
     "metadata": {},
     "output_type": "execute_result"
    }
   ],
   "source": [
    "Image(filename='./img/bug_at_2.png')"
   ]
  },
  {
   "cell_type": "markdown",
   "id": "4caf5d61",
   "metadata": {},
   "source": [
    "Il n'y a pas de problème sur la ligne A7 mais sur les lignes du dessous si...  Pourtant, la même formule et le même code est appliqué. <br> Je supprime donc tous les \"@\" à la main et je relance le code. "
   ]
  },
  {
   "cell_type": "code",
   "execution_count": 32,
   "id": "aea70477",
   "metadata": {
    "scrolled": true
   },
   "outputs": [
    {
     "data": {
      "image/png": "[encoded data removed]",
      "text/plain": [
       "<IPython.core.display.Image object>"
      ]
     },
     "execution_count": 32,
     "metadata": {},
     "output_type": "execute_result"
    }
   ],
   "source": [
    "Image(filename='./img/bug_at_3.png')"
   ]
  },
  {
   "cell_type": "markdown",
   "id": "10577b3b",
   "metadata": {},
   "source": [
    "La formule fonctionne correctement maintenant..."
   ]
  },
  {
   "cell_type": "code",
   "execution_count": 33,
   "id": "c6c626e9",
   "metadata": {},
   "outputs": [
    {
     "name": "stdout",
     "output_type": "stream",
     "text": [
      "=INDEX(cleaned_data!$G:$G,MATCH(LARGE(IF((cleaned_data!$C:$C=$G$1)*(cleaned_data!$D:$D=$C$1),cleaned_data!$K:$K),5),IF((cleaned_data!$C:$C=$G$1)*(cleaned_data!$D:$D=$C$1),cleaned_data!$K:$K),0))\n"
     ]
    }
   ],
   "source": [
    "wb = openpyxl.load_workbook('Dashboards.xlsx')\n",
    "\n",
    "# Sélectionner l'onglet\n",
    "TDB1_sheet = wb['TDB_1']\n",
    "\n",
    "cell = TDB1_sheet['C11']\n",
    "print(cell.value)"
   ]
  },
  {
   "cell_type": "code",
   "execution_count": 34,
   "id": "a1a8b777",
   "metadata": {
    "scrolled": true
   },
   "outputs": [
    {
     "data": {
      "image/png": "[encoded data removed]",
      "text/plain": [
       "<IPython.core.display.Image object>"
      ]
     },
     "execution_count": 34,
     "metadata": {},
     "output_type": "execute_result"
    }
   ],
   "source": [
    "Image('./img/bug_at_4.png')"
   ]
  },
  {
   "cell_type": "markdown",
   "id": "e1c78435",
   "metadata": {},
   "source": [
    "Par ailleurs il n'est pas possible de récupérer le contenu de la cellule et de supprimer les @ car ils n'apparaissent pas, c'est bien du côté d'Excel qu'il se passe quelquechose."
   ]
  },
  {
   "cell_type": "markdown",
   "id": "8302b43f",
   "metadata": {},
   "source": [
    "Après plus d'investigation, ce ne serait pas un bug mais une évolution d'Excel avec office 365. Les @ font référence à la formule SINGLE() permettant de récupérer une valeur dans un array, ils s'insèrent automatiquement et on ne peut les supprimer qu'à la main. Cette évolution fait suite à la création des tableaux dynamiques apportés dans les dernières mises à jour. \n",
    "\n",
    "Il faut donc ajouter la fameuse ligne : (en adaptant les lignes/colonnes bien sûr) \n",
    "\n",
    "ress_sheet.formula_attributes['A1'] = {'t': 'array', 'ref': \"A1:A32\"} -> pour afficher les résultats de la formule sur plusieurs ligne \n",
    "\n",
    "res_sheet.formula_attributes['A1'] = {'t' : 'array', 'ref': \"A1:A1\"} -> pour afficher le résultat de la formule dans une seule cellule\n",
    "\n",
    "Pour qu'openpyxl et Excel fonctionnent correctement. \n",
    "\n",
    "\n"
   ]
  },
  {
   "cell_type": "markdown",
   "id": "a8694f66",
   "metadata": {},
   "source": [
    "Sources pour la résolution <br>\n",
    "https://support.microsoft.com/en-us/office/implicit-intersection-operator-ce3be07b-0101-4450-a24e-c1c999be2b34?ui=en-us&rs=en-us&ad=us <br>\n",
    "https://stackoverflow.com/questions/61705150/openpyxl-is-inserted-to-formula-when-saving-to-file<br>\n",
    "https://stackoverflow.com/questions/66008301/symbol-appearing-after-inserting-if-formula-into-excel-using-openpyxl<br>\n",
    "https://stackoverflow.com/questions/57298554/how-to-insert-array-formula-in-an-excel-sheet-with-openpyxl/57441549#57441549 <br>\n",
    "https://techcommunity.microsoft.com/t5/excel/curly-brackets-added-to-formulas-once-workbook-is-copied-and/m-p/1111428 <br>\n",
    "https://stackoverflow.com/questions/74608700/openpyxl-inserts-in-excel-formulas <br>\n",
    "https://stackoverflow.com/questions/64827312/excel-adding-signs-in-openpyxl-generated-workbooks <br> \n"
   ]
  },
  {
   "cell_type": "markdown",
   "id": "99c9dde3",
   "metadata": {},
   "source": [
    "# Bonus"
   ]
  },
  {
   "cell_type": "code",
   "execution_count": 35,
   "id": "349d090f",
   "metadata": {},
   "outputs": [],
   "source": [
    "from openpyxl import Workbook\n",
    "from openpyxl.drawing.image import Image\n",
    "from PIL import Image as PILImage\n",
    "\n",
    "img = PILImage.open(\"./img/this-is-fine.jpg\")\n",
    "wb = openpyxl.load_workbook('Dashboards.xlsx')\n",
    "\n",
    "if 'BONUS' not in wb.sheetnames:\n",
    "    # Créer la feuille\n",
    "       sheet_image = wb.create_sheet('BONUS')\n",
    "else :\n",
    "    sheet_image = wb['BONUS']\n",
    "\n",
    "# Supprimer la grille\n",
    "sheet_image.sheet_view.showGridLines = False \n",
    "# Supprimer les en-têtes de colonnes de la feuille de calcul\n",
    "sheet_image.show_headers = False\n",
    "# Supprimer la barre de formule de la feuille de calcul\n",
    "sheet_image.show_formulas = False\n",
    "\n",
    "img_excel = Image(img)\n",
    "sheet_image.add_image(img_excel, \"I3\")\n",
    "\n",
    "wb.save(\"Dashboards.xlsx\")"
   ]
  }
 ],
 "metadata": {
  "kernelspec": {
   "display_name": "Python 3 (ipykernel)",
   "language": "python",
   "name": "python3"
  },
  "language_info": {
   "codemirror_mode": {
    "name": "ipython",
    "version": 3
   },
   "file_extension": ".py",
   "mimetype": "text/x-python",
   "name": "python",
   "nbconvert_exporter": "python",
   "pygments_lexer": "ipython3",
   "version": "3.9.13"
  }
 },
 "nbformat": 4,
 "nbformat_minor": 5
}
